{
 "cells": [
  {
   "cell_type": "markdown",
   "id": "generic-cache",
   "metadata": {},
   "source": [
    "\n",
    "Уровень 0:\n",
    "Посчитайте частные производные функций:\n",
    "\n",
    "1) f(x,y)=2x^2y^3 + 1/x + y^2x + 7, а для этой функции также градиент в точке (1,2)\n",
    "\n",
    "2) f(x,y)=x^2y - sin(xy) + cos(x^2) + 6y"
   ]
  },
  {
   "cell_type": "code",
   "execution_count": 23,
   "id": "experienced-omega",
   "metadata": {},
   "outputs": [],
   "source": [
    "from scipy import misc\n",
    "import numpy as np\n",
    "from scipy.optimize import approx_fprime"
   ]
  },
  {
   "cell_type": "code",
   "execution_count": 44,
   "id": "numerous-celebrity",
   "metadata": {},
   "outputs": [
    {
     "name": "stdout",
     "output_type": "stream",
     "text": [
      "Функция до дифференцирования: 2*x**2*y**3 + x*y**2 + 7 + 1/x\n",
      "Функция после дифференцирования при постоянной y : 4*x*y**3 + y**2 - 1/x**2\n",
      "Функция после дифференцирования при постоянной x : 6*x**2*y**2 + 2*x*y\n"
     ]
    }
   ],
   "source": [
    "# импортируем sympy\n",
    "from sympy import * \n",
    "# определяем переменные\n",
    "x, y = symbols('x y')\n",
    "f = 2*x**2 * y**3 + 1/x + y**2 * x + 7\n",
    "\n",
    "print(\"Функция до дифференцирования: {}\".format(f))\n",
    "\n",
    "# используем sympy.diff() метод для получения производной\n",
    "dif = diff(f, x)\n",
    "\n",
    "print(\"Функция после дифференцирования при постоянной y : {}\".format(dif))\n",
    "\n",
    "dif2 = diff(f, y)\n",
    "print(\"Функция после дифференцирования при постоянной x : {}\".format(dif2))\n"
   ]
  },
  {
   "cell_type": "code",
   "execution_count": 37,
   "id": "single-sarah",
   "metadata": {},
   "outputs": [
    {
     "name": "stdout",
     "output_type": "stream",
     "text": [
      "35.0 28\n"
     ]
    }
   ],
   "source": [
    "#подставляем значение точки (1,2) в полученные производные\n",
    "d1 = 4*1*2**3 + 2**2 - 1/1**2\n",
    "d2 = 6*1**2*2**2 + 2*1*2\n",
    "print(d1, d2)"
   ]
  },
  {
   "cell_type": "code",
   "execution_count": 38,
   "id": "informative-questionnaire",
   "metadata": {},
   "outputs": [
    {
     "name": "stdout",
     "output_type": "stream",
     "text": [
      "Функция до дифференцирования: x**2*y + 6*y - sin(x*y) + cos(x**2)\n",
      "Функция после дифференцирования при постоянной y : 2*x*y - 2*x*sin(x**2) - y*cos(x*y)\n",
      "Функция после дифференцирования при постоянной x : x**2 - x*cos(x*y) + 6\n"
     ]
    }
   ],
   "source": [
    "# импортируем sympy\n",
    "from sympy import * \n",
    "# определяем переменные\n",
    "x, y = symbols('x y')\n",
    "f = x**2 * y - sin(x*y) + cos(x**2) + 6*y\n",
    "\n",
    "print(\"Функция до дифференцирования: {}\".format(f))\n",
    "\n",
    "# используем sympy.diff() метод для получения производной\n",
    "dif = diff(f, x)\n",
    "\n",
    "print(\"Функция после дифференцирования при постоянной y : {}\".format(dif))\n",
    "\n",
    "dif2 = diff(f, y)\n",
    "print(\"Функция после дифференцирования при постоянной x : {}\".format(dif2))"
   ]
  },
  {
   "cell_type": "code",
   "execution_count": 41,
   "id": "answering-breach",
   "metadata": {},
   "outputs": [
    {
     "name": "stdout",
     "output_type": "stream",
     "text": [
      "3.14935170347849 7.41614683654714\n"
     ]
    }
   ],
   "source": [
    "#подставляем значение точки (1,2) в полученные производные\n",
    "d1 = 2*1*2 - 2*1*sin(1**2) - 2*cos(1*2)\n",
    "d2 = 1**2 - 1*cos(1*2) + 6\n",
    "print(d1.evalf(), d2.evalf())"
   ]
  },
  {
   "cell_type": "code",
   "execution_count": 72,
   "id": "accompanied-lawrence",
   "metadata": {},
   "outputs": [
    {
     "data": {
      "text/plain": [
       "array([35.00000024, 28.00000273])"
      ]
     },
     "execution_count": 72,
     "metadata": {},
     "output_type": "execute_result"
    }
   ],
   "source": [
    "# используем approx_fprime , чтобы найти градиент\n",
    "def func(x, y):\n",
    "                return (2*x[0]**2 * x[1]**3 + 1/x[0] + x[1]**2 * x[0] + 7)\n",
    "x = np.array([1, 2])\n",
    "\n",
    "approx_fprime(x, func, [eps, np.sqrt(200) * eps], y)\n"
   ]
  }
 ],
 "metadata": {
  "kernelspec": {
   "display_name": "Python 3",
   "language": "python",
   "name": "python3"
  },
  "language_info": {
   "codemirror_mode": {
    "name": "ipython",
    "version": 3
   },
   "file_extension": ".py",
   "mimetype": "text/x-python",
   "name": "python",
   "nbconvert_exporter": "python",
   "pygments_lexer": "ipython3",
   "version": "3.8.8"
  }
 },
 "nbformat": 4,
 "nbformat_minor": 5
}

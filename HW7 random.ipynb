{
 "cells": [
  {
   "cell_type": "markdown",
   "id": "changing-adventure",
   "metadata": {},
   "source": [
    "Домашнее задание \"Теория вероятности. Дискретные Случайные Величины\".\n",
    "Уровень 0:\n",
    "Задание 1:\n",
    "Монетку подбрасывают 15 раз, найдите вероятность выпадения простого числа орлов.\n",
    "\n",
    "Задание 2:\n",
    "Создайте свою дискретную случайную величину с не менее, чем 10 значениями. \n",
    "Просемплируйте 1000 случайных значений, постройте гистограмму плотности распределения по выборке, посчитайте среднее, \n",
    "дисперсию и медиану."
   ]
  },
  {
   "cell_type": "code",
   "execution_count": 16,
   "id": "british-disabled",
   "metadata": {},
   "outputs": [],
   "source": [
    "import math\n",
    "import numpy as np\n",
    "import matplotlib.pyplot as plt"
   ]
  },
  {
   "cell_type": "markdown",
   "id": "returning-tablet",
   "metadata": {},
   "source": [
    "Задание 1"
   ]
  },
  {
   "cell_type": "code",
   "execution_count": 17,
   "id": "attempted-classroom",
   "metadata": {},
   "outputs": [
    {
     "data": {
      "text/plain": [
       "0.3499755859375"
      ]
     },
     "execution_count": 17,
     "metadata": {},
     "output_type": "execute_result"
    }
   ],
   "source": [
    "n = 15\n",
    "k = [2, 3, 5, 7, 11, 13]\n",
    "p = 0.5\n",
    "q = 0.5\n",
    "S = 0\n",
    "for i in range(len(k)):\n",
    "    Cnk = math.factorial(n)/(math.factorial(k[i]) * (math.factorial(n-k[i])))\n",
    "#формула Бернулли\n",
    "# P - \n",
    "    P = Cnk * p**k[i] * q**(n-k[i])\n",
    "    S = S + P\n",
    "S"
   ]
  },
  {
   "cell_type": "markdown",
   "id": "standing-rotation",
   "metadata": {},
   "source": [
    "Задание 2"
   ]
  },
  {
   "cell_type": "code",
   "execution_count": 22,
   "id": "expired-status",
   "metadata": {},
   "outputs": [
    {
     "data": {
      "text/plain": [
       "(array([ 89., 115., 112.,  89., 106., 100., 100., 104.,  89.,  96.]),\n",
       " array([ 0. ,  9.9, 19.8, 29.7, 39.6, 49.5, 59.4, 69.3, 79.2, 89.1, 99. ]),\n",
       " <BarContainer object of 10 artists>)"
      ]
     },
     "execution_count": 22,
     "metadata": {},
     "output_type": "execute_result"
    },
    {
     "data": {
      "image/png": "[encoded data removed]",
      "text/plain": [
       "<Figure size 432x288 with 1 Axes>"
      ]
     },
     "metadata": {
      "needs_background": "light"
     },
     "output_type": "display_data"
    }
   ],
   "source": [
    "rand = np.random.randint(0, 100, 1000)\n",
    "plt.hist(rand)"
   ]
  },
  {
   "cell_type": "code",
   "execution_count": 23,
   "id": "running-trademark",
   "metadata": {},
   "outputs": [
    {
     "data": {
      "text/plain": [
       "48.836"
      ]
     },
     "execution_count": 23,
     "metadata": {},
     "output_type": "execute_result"
    }
   ],
   "source": [
    "np.mean(rand)"
   ]
  },
  {
   "cell_type": "code",
   "execution_count": 24,
   "id": "unable-tablet",
   "metadata": {},
   "outputs": [
    {
     "data": {
      "text/plain": [
       "814.9531039999999"
      ]
     },
     "execution_count": 24,
     "metadata": {},
     "output_type": "execute_result"
    }
   ],
   "source": [
    "np.var(rand)"
   ]
  },
  {
   "cell_type": "code",
   "execution_count": 25,
   "id": "caroline-functionality",
   "metadata": {},
   "outputs": [
    {
     "data": {
      "text/plain": [
       "48.0"
      ]
     },
     "execution_count": 25,
     "metadata": {},
     "output_type": "execute_result"
    }
   ],
   "source": [
    "np.median(rand)"
   ]
  }
 ],
 "metadata": {
  "kernelspec": {
   "display_name": "Python 3",
   "language": "python",
   "name": "python3"
  },
  "language_info": {
   "codemirror_mode": {
    "name": "ipython",
    "version": 3
   },
   "file_extension": ".py",
   "mimetype": "text/x-python",
   "name": "python",
   "nbconvert_exporter": "python",
   "pygments_lexer": "ipython3",
   "version": "3.8.8"
  }
 },
 "nbformat": 4,
 "nbformat_minor": 5
}

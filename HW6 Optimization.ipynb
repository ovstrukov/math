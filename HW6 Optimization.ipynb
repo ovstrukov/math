{
 "cells": [
  {
   "cell_type": "markdown",
   "id": "consistent-spoke",
   "metadata": {},
   "source": [
    "Задание.\n",
    "При фиксированном seed=42 поразбирайтесь и поэкспериментируйте с параметрами алгоритма дифференциальной эволюции: strategy, popsize, tol, mutation, recombination и updating.\n",
    "\n",
    "Постройте графики количества итераций оптимизации функции ackley от значения параметра.\n",
    "\n",
    "Дополнительное задание.\n",
    "Найти множество параметров (strategy=..., ..., updating=...), которые требуют минимального количества итераций.\n"
   ]
  },
  {
   "cell_type": "code",
   "execution_count": 41,
   "id": "solid-prisoner",
   "metadata": {},
   "outputs": [],
   "source": [
    "import numpy as np\n",
    "from scipy.optimize import differential_evolution\n",
    "import matplotlib.pyplot as plt"
   ]
  },
  {
   "cell_type": "code",
   "execution_count": 2,
   "id": "lyric-bandwidth",
   "metadata": {},
   "outputs": [
    {
     "data": {
      "text/plain": [
       "     fun: 4.440892098500626e-16\n",
       " message: 'Optimization terminated successfully.'\n",
       "    nfev: 2793\n",
       "     nit: 90\n",
       " success: True\n",
       "       x: array([0., 0.])"
      ]
     },
     "execution_count": 2,
     "metadata": {},
     "output_type": "execute_result"
    }
   ],
   "source": [
    "def ackley(x):\n",
    "    arg1 = -0.2 * np.sqrt(0.5 * (x[0] ** 2 + x[1] ** 2))\n",
    "    arg2 = 0.5 * (np.cos(2. * np.pi * x[0]) + np.cos(2. * np.pi * x[1]))\n",
    "    return -20. * np.exp(arg1) - np.exp(arg2) + 20. + np.e\n",
    "\n",
    "bounds = [(-10, 10), (-10, 10)]\n",
    "\n",
    "result = differential_evolution(ackley, bounds, seed=42)\n",
    "result"
   ]
  },
  {
   "cell_type": "code",
   "execution_count": 71,
   "id": "challenging-mount",
   "metadata": {},
   "outputs": [],
   "source": [
    "# В цикле прогоняем каждый из параметров, строим графики значения количества итераций оптимизации функции ackley от значения параметра"
   ]
  },
  {
   "cell_type": "code",
   "execution_count": 48,
   "id": "regulation-google",
   "metadata": {},
   "outputs": [
    {
     "name": "stdout",
     "output_type": "stream",
     "text": [
      "Стратегия: best1bin 90\n",
      "Стратегия: best1exp 147\n",
      "Стратегия: rand1exp 246\n",
      "Стратегия: randtobest1exp 156\n",
      "Стратегия: currenttobest1exp 1000\n",
      "Стратегия: best2exp 244\n",
      "Стратегия: rand2exp 341\n",
      "Стратегия: randtobest1bin 101\n",
      "Стратегия: currenttobest1bin 1000\n",
      "Стратегия: best2bin 166\n",
      "Стратегия: rand2bin 232\n",
      "Стратегия: rand1bin 168\n"
     ]
    },
    {
     "data": {
      "image/png": "[encoded data removed]",
      "text/plain": [
       "<Figure size 432x288 with 1 Axes>"
      ]
     },
     "metadata": {
      "needs_background": "light"
     },
     "output_type": "display_data"
    }
   ],
   "source": [
    "def ackley(x):\n",
    "    arg1 = -0.2 * np.sqrt(0.5 * (x[0] ** 2 + x[1] ** 2))\n",
    "    arg2 = 0.5 * (np.cos(2. * np.pi * x[0]) + np.cos(2. * np.pi * x[1]))\n",
    "    return -20. * np.exp(arg1) - np.exp(arg2) + 20. + np.e\n",
    "\n",
    "bounds = [(-10, 10), (-10, 10)]\n",
    "\n",
    "strat = ['best1bin', 'best1exp', 'rand1exp', 'randtobest1exp', 'currenttobest1exp', 'best2exp', 'rand2exp', 'randtobest1bin', 'currenttobest1bin', 'best2bin', 'rand2bin', 'rand1bin']\n",
    "i=0\n",
    "result_dict = {}\n",
    "for i in range(len(strat)):\n",
    "    result = differential_evolution(ackley, bounds, seed=42, strategy = strat[i])\n",
    "    result_dict = result\n",
    "    print('Стратегия:', strat[i], result_dict['nit'])\n",
    "    plt.plot(strat[i], result_dict['nit'], 'x')\n",
    " "
   ]
  },
  {
   "cell_type": "code",
   "execution_count": 65,
   "id": "ruled-austin",
   "metadata": {},
   "outputs": [
    {
     "name": "stdout",
     "output_type": "stream",
     "text": [
      "popsize: 0 7\n",
      "popsize: 1 7\n",
      "popsize: 2 7\n",
      "popsize: 3 29\n",
      "popsize: 4 39\n",
      "popsize: 5 100\n",
      "popsize: 6 99\n",
      "popsize: 7 87\n",
      "popsize: 8 97\n",
      "popsize: 9 101\n"
     ]
    },
    {
     "data": {
      "image/png": "[encoded data removed]",
      "text/plain": [
       "<Figure size 432x288 with 1 Axes>"
      ]
     },
     "metadata": {
      "needs_background": "light"
     },
     "output_type": "display_data"
    }
   ],
   "source": [
    "def ackley(x):\n",
    "    arg1 = -0.2 * np.sqrt(0.5 * (x[0] ** 2 + x[1] ** 2))\n",
    "    arg2 = 0.5 * (np.cos(2. * np.pi * x[0]) + np.cos(2. * np.pi * x[1]))\n",
    "    return -20. * np.exp(arg1) - np.exp(arg2) + 20. + np.e\n",
    "\n",
    "bounds = [(-10, 10), (-10, 10)]\n",
    "\n",
    "result_dict = {}\n",
    "for i in range(10):\n",
    "    result = differential_evolution(ackley, bounds, seed=42, popsize = i)\n",
    "    result_dict = result\n",
    "    print('popsize:', i, result_dict['nit'])\n",
    "    plt.plot(i, result_dict['nit'], 'x')\n",
    " "
   ]
  },
  {
   "cell_type": "code",
   "execution_count": 66,
   "id": "toxic-break",
   "metadata": {},
   "outputs": [
    {
     "name": "stdout",
     "output_type": "stream",
     "text": [
      "tolfloat: 0.0      fun: 4.440892098500626e-16\n",
      " message: 'Optimization terminated successfully.'\n",
      "    nfev: 2793\n",
      "     nit: 90\n",
      " success: True\n",
      "       x: array([0., 0.])\n",
      "tolfloat: 0.1      fun: 4.440892098500626e-16\n",
      " message: 'Optimization terminated successfully.'\n",
      "    nfev: 2793\n",
      "     nit: 90\n",
      " success: True\n",
      "       x: array([0., 0.])\n",
      "tolfloat: 0.2      fun: 4.440892098500626e-16\n",
      " message: 'Optimization terminated successfully.'\n",
      "    nfev: 2793\n",
      "     nit: 90\n",
      " success: True\n",
      "       x: array([0., 0.])\n",
      "tolfloat: 0.30000000000000004      fun: 4.440892098500626e-16\n",
      " message: 'Optimization terminated successfully.'\n",
      "    nfev: 2793\n",
      "     nit: 90\n",
      " success: True\n",
      "       x: array([0., 0.])\n",
      "tolfloat: 0.4      fun: 2.5799275570298943\n",
      "     jac: array([ 1.42108547e-06, -3.55271366e-07])\n",
      " message: 'Optimization terminated successfully.'\n",
      "    nfev: 114\n",
      "     nit: 1\n",
      " success: True\n",
      "       x: array([2.51714456e-08, 9.52166536e-01])\n",
      "tolfloat: 0.5      fun: 2.5799275570298943\n",
      "     jac: array([ 1.42108547e-06, -3.55271366e-07])\n",
      " message: 'Optimization terminated successfully.'\n",
      "    nfev: 114\n",
      "     nit: 1\n",
      " success: True\n",
      "       x: array([2.51714456e-08, 9.52166536e-01])\n",
      "tolfloat: 0.6000000000000001      fun: 2.5799275570298943\n",
      "     jac: array([ 1.42108547e-06, -3.55271366e-07])\n",
      " message: 'Optimization terminated successfully.'\n",
      "    nfev: 114\n",
      "     nit: 1\n",
      " success: True\n",
      "       x: array([2.51714456e-08, 9.52166536e-01])\n",
      "tolfloat: 0.7000000000000001      fun: 2.5799275570298943\n",
      "     jac: array([ 1.42108547e-06, -3.55271366e-07])\n",
      " message: 'Optimization terminated successfully.'\n",
      "    nfev: 114\n",
      "     nit: 1\n",
      " success: True\n",
      "       x: array([2.51714456e-08, 9.52166536e-01])\n",
      "tolfloat: 0.8      fun: 2.5799275570298943\n",
      "     jac: array([ 1.42108547e-06, -3.55271366e-07])\n",
      " message: 'Optimization terminated successfully.'\n",
      "    nfev: 114\n",
      "     nit: 1\n",
      " success: True\n",
      "       x: array([2.51714456e-08, 9.52166536e-01])\n",
      "tolfloat: 0.9      fun: 2.5799275570298943\n",
      "     jac: array([ 1.42108547e-06, -3.55271366e-07])\n",
      " message: 'Optimization terminated successfully.'\n",
      "    nfev: 114\n",
      "     nit: 1\n",
      " success: True\n",
      "       x: array([2.51714456e-08, 9.52166536e-01])\n",
      "tolfloat: 1.0      fun: 2.5799275570298943\n",
      "     jac: array([ 1.42108547e-06, -3.55271366e-07])\n",
      " message: 'Optimization terminated successfully.'\n",
      "    nfev: 114\n",
      "     nit: 1\n",
      " success: True\n",
      "       x: array([2.51714456e-08, 9.52166536e-01])\n",
      "tolfloat: 1.1      fun: 2.5799275570298943\n",
      "     jac: array([ 1.42108547e-06, -3.55271366e-07])\n",
      " message: 'Optimization terminated successfully.'\n",
      "    nfev: 114\n",
      "     nit: 1\n",
      " success: True\n",
      "       x: array([2.51714456e-08, 9.52166536e-01])\n",
      "tolfloat: 1.2000000000000002      fun: 2.5799275570298943\n",
      "     jac: array([ 1.42108547e-06, -3.55271366e-07])\n",
      " message: 'Optimization terminated successfully.'\n",
      "    nfev: 114\n",
      "     nit: 1\n",
      " success: True\n",
      "       x: array([2.51714456e-08, 9.52166536e-01])\n",
      "tolfloat: 1.3      fun: 2.5799275570298943\n",
      "     jac: array([ 1.42108547e-06, -3.55271366e-07])\n",
      " message: 'Optimization terminated successfully.'\n",
      "    nfev: 114\n",
      "     nit: 1\n",
      " success: True\n",
      "       x: array([2.51714456e-08, 9.52166536e-01])\n",
      "tolfloat: 1.4000000000000001      fun: 2.5799275570298943\n",
      "     jac: array([ 1.42108547e-06, -3.55271366e-07])\n",
      " message: 'Optimization terminated successfully.'\n",
      "    nfev: 114\n",
      "     nit: 1\n",
      " success: True\n",
      "       x: array([2.51714456e-08, 9.52166536e-01])\n",
      "tolfloat: 1.5      fun: 2.5799275570298943\n",
      "     jac: array([ 1.42108547e-06, -3.55271366e-07])\n",
      " message: 'Optimization terminated successfully.'\n",
      "    nfev: 114\n",
      "     nit: 1\n",
      " success: True\n",
      "       x: array([2.51714456e-08, 9.52166536e-01])\n",
      "tolfloat: 1.6      fun: 2.5799275570298943\n",
      "     jac: array([ 1.42108547e-06, -3.55271366e-07])\n",
      " message: 'Optimization terminated successfully.'\n",
      "    nfev: 114\n",
      "     nit: 1\n",
      " success: True\n",
      "       x: array([2.51714456e-08, 9.52166536e-01])\n",
      "tolfloat: 1.7000000000000002      fun: 2.5799275570298943\n",
      "     jac: array([ 1.42108547e-06, -3.55271366e-07])\n",
      " message: 'Optimization terminated successfully.'\n",
      "    nfev: 114\n",
      "     nit: 1\n",
      " success: True\n",
      "       x: array([2.51714456e-08, 9.52166536e-01])\n",
      "tolfloat: 1.8      fun: 2.5799275570298943\n",
      "     jac: array([ 1.42108547e-06, -3.55271366e-07])\n",
      " message: 'Optimization terminated successfully.'\n",
      "    nfev: 114\n",
      "     nit: 1\n",
      " success: True\n",
      "       x: array([2.51714456e-08, 9.52166536e-01])\n",
      "tolfloat: 1.9000000000000001      fun: 2.5799275570298943\n",
      "     jac: array([ 1.42108547e-06, -3.55271366e-07])\n",
      " message: 'Optimization terminated successfully.'\n",
      "    nfev: 114\n",
      "     nit: 1\n",
      " success: True\n",
      "       x: array([2.51714456e-08, 9.52166536e-01])\n"
     ]
    },
    {
     "data": {
      "image/png": "[encoded data removed]",
      "text/plain": [
       "<Figure size 432x288 with 1 Axes>"
      ]
     },
     "metadata": {
      "needs_background": "light"
     },
     "output_type": "display_data"
    }
   ],
   "source": [
    "def ackley(x):\n",
    "    arg1 = -0.2 * np.sqrt(0.5 * (x[0] ** 2 + x[1] ** 2))\n",
    "    arg2 = 0.5 * (np.cos(2. * np.pi * x[0]) + np.cos(2. * np.pi * x[1]))\n",
    "    return -20. * np.exp(arg1) - np.exp(arg2) + 20. + np.e\n",
    "\n",
    "bounds = [(-10, 10), (-10, 10)]\n",
    "\n",
    "result_dict = {}\n",
    "for i in np.arange(0, 2, 0.1):\n",
    "    result = differential_evolution(ackley, bounds, seed=42, tol = i)\n",
    "    result_dict = result\n",
    "    print('tolfloat:', i, result_dict)\n",
    "    plt.plot(i, result_dict['nit'], 'x')"
   ]
  },
  {
   "cell_type": "code",
   "execution_count": 64,
   "id": "impressed-stone",
   "metadata": {},
   "outputs": [
    {
     "name": "stdout",
     "output_type": "stream",
     "text": [
      "tolfloat: 0.0      fun: 3.5744518772578613\n",
      "     jac: array([-1.06581410e-06,  4.26325639e-06])\n",
      " message: 'Optimization terminated successfully.'\n",
      "    nfev: 156\n",
      "     nit: 3\n",
      " success: True\n",
      "       x: array([ 0.96847763, -0.96847758])\n",
      "tolfloat: 0.1      fun: 3.5744518772596803\n",
      "     jac: array([ 2.13162820e-06, -1.42108546e-05])\n",
      " message: 'Optimization terminated successfully.'\n",
      "    nfev: 192\n",
      "     nit: 5\n",
      " success: True\n",
      "       x: array([0.96847769, 0.96847738])\n",
      "tolfloat: 0.2      fun: 4.440892098500626e-16\n",
      " message: 'Optimization terminated successfully.'\n",
      "    nfev: 933\n",
      "     nit: 28\n",
      " success: True\n",
      "       x: array([0., 0.])\n",
      "tolfloat: 0.30000000000000004      fun: 4.440892098500626e-16\n",
      " message: 'Optimization terminated successfully.'\n",
      "    nfev: 1203\n",
      "     nit: 37\n",
      " success: True\n",
      "       x: array([0., 0.])\n",
      "tolfloat: 0.4      fun: 4.440892098500626e-16\n",
      " message: 'Optimization terminated successfully.'\n",
      "    nfev: 1503\n",
      "     nit: 47\n",
      " success: True\n",
      "       x: array([0., 0.])\n",
      "tolfloat: 0.5      fun: 4.440892098500626e-16\n",
      " message: 'Optimization terminated successfully.'\n",
      "    nfev: 1803\n",
      "     nit: 57\n",
      " success: True\n",
      "       x: array([0., 0.])\n",
      "tolfloat: 0.6000000000000001      fun: 4.440892098500626e-16\n",
      " message: 'Optimization terminated successfully.'\n",
      "    nfev: 2403\n",
      "     nit: 77\n",
      " success: True\n",
      "       x: array([0., 0.])\n",
      "tolfloat: 0.7000000000000001      fun: 4.440892098500626e-16\n",
      " message: 'Optimization terminated successfully.'\n",
      "    nfev: 2823\n",
      "     nit: 91\n",
      " success: True\n",
      "       x: array([0., 0.])\n",
      "tolfloat: 0.8      fun: 4.440892098500626e-16\n",
      " message: 'Optimization terminated successfully.'\n",
      "    nfev: 3213\n",
      "     nit: 104\n",
      " success: True\n",
      "       x: array([0., 0.])\n",
      "tolfloat: 0.9      fun: 4.440892098500626e-16\n",
      " message: 'Optimization terminated successfully.'\n",
      "    nfev: 4203\n",
      "     nit: 137\n",
      " success: True\n",
      "       x: array([0., 0.])\n",
      "tolfloat: 1.0      fun: 1.283417816466681e-13\n",
      " message: 'Optimization terminated successfully.'\n",
      "    nfev: 4233\n",
      "     nit: 138\n",
      " success: True\n",
      "       x: array([4.4408921e-14, 8.8817842e-15])\n",
      "tolfloat: 1.1      fun: 4.440892098500626e-16\n",
      " message: 'Optimization terminated successfully.'\n",
      "    nfev: 5703\n",
      "     nit: 187\n",
      " success: True\n",
      "       x: array([0., 0.])\n",
      "tolfloat: 1.2000000000000002      fun: 3.9968028886505635e-15\n",
      " message: 'Optimization terminated successfully.'\n",
      "    nfev: 6423\n",
      "     nit: 211\n",
      " success: True\n",
      "       x: array([-1.11022302e-15, -1.11022302e-15])\n",
      "tolfloat: 1.3      fun: 4.440892098500626e-16\n",
      " message: 'Optimization terminated successfully.'\n",
      "    nfev: 6573\n",
      "     nit: 216\n",
      " success: True\n",
      "       x: array([0., 0.])\n",
      "tolfloat: 1.4000000000000001      fun: 4.440892098500626e-16\n",
      " message: 'Optimization terminated successfully.'\n",
      "    nfev: 8493\n",
      "     nit: 280\n",
      " success: True\n",
      "       x: array([0., 0.])\n",
      "tolfloat: 1.5      fun: 4.440892098500626e-16\n",
      " message: 'Optimization terminated successfully.'\n",
      "    nfev: 9633\n",
      "     nit: 318\n",
      " success: True\n",
      "       x: array([0., 0.])\n",
      "tolfloat: 1.6      fun: 1.9864309752648523e-08\n",
      "     jac: array([-0.02376765,  0.05100276])\n",
      " message: 'Optimization terminated successfully.'\n",
      "    nfev: 5358\n",
      "     nit: 176\n",
      " success: True\n",
      "       x: array([-5.05866293e-09, -4.87173244e-09])\n",
      "tolfloat: 1.7000000000000002      fun: 4.440892098500626e-16\n",
      " message: 'Optimization terminated successfully.'\n",
      "    nfev: 10953\n",
      "     nit: 362\n",
      " success: True\n",
      "       x: array([0., 0.])\n",
      "tolfloat: 1.8      fun: 7.294120862866293e-11\n",
      " message: 'Optimization terminated successfully.'\n",
      "    nfev: 7443\n",
      "     nit: 245\n",
      " success: True\n",
      "       x: array([2.57882604e-11, 1.44328993e-13])\n",
      "tolfloat: 1.9000000000000001      fun: 1.0855270904386316e-08\n",
      " message: 'Optimization terminated successfully.'\n",
      "    nfev: 6873\n",
      "     nit: 226\n",
      " success: True\n",
      "       x: array([ 2.06301642e-11, -3.83786225e-09])\n"
     ]
    },
    {
     "data": {
      "image/png": "[encoded data removed]",
      "text/plain": [
       "<Figure size 432x288 with 1 Axes>"
      ]
     },
     "metadata": {
      "needs_background": "light"
     },
     "output_type": "display_data"
    }
   ],
   "source": [
    "def ackley(x):\n",
    "    arg1 = -0.2 * np.sqrt(0.5 * (x[0] ** 2 + x[1] ** 2))\n",
    "    arg2 = 0.5 * (np.cos(2. * np.pi * x[0]) + np.cos(2. * np.pi * x[1]))\n",
    "    return -20. * np.exp(arg1) - np.exp(arg2) + 20. + np.e\n",
    "\n",
    "bounds = [(-10, 10), (-10, 10)]\n",
    "\n",
    "\n",
    "result_dict = {}\n",
    "for i in np.arange(0, 2, 0.1):\n",
    "    result = differential_evolution(ackley, bounds, seed=42, mutation = i)\n",
    "    result_dict = result\n",
    "    print('tolfloat:', i, result_dict)\n",
    "    plt.plot(i, result_dict['nit'], 'x')"
   ]
  },
  {
   "cell_type": "code",
   "execution_count": 67,
   "id": "fallen-surfing",
   "metadata": {},
   "outputs": [
    {
     "name": "stdout",
     "output_type": "stream",
     "text": [
      "tolfloat: 0.0      fun: 4.440892098500626e-16\n",
      " message: 'Optimization terminated successfully.'\n",
      "    nfev: 3423\n",
      "     nit: 111\n",
      " success: True\n",
      "       x: array([0., 0.])\n",
      "tolfloat: 0.1      fun: 4.440892098500626e-16\n",
      " message: 'Optimization terminated successfully.'\n",
      "    nfev: 3873\n",
      "     nit: 126\n",
      " success: True\n",
      "       x: array([0., 0.])\n",
      "tolfloat: 0.2      fun: 4.440892098500626e-16\n",
      " message: 'Optimization terminated successfully.'\n",
      "    nfev: 3393\n",
      "     nit: 110\n",
      " success: True\n",
      "       x: array([0., 0.])\n",
      "tolfloat: 0.30000000000000004      fun: 4.440892098500626e-16\n",
      " message: 'Optimization terminated successfully.'\n",
      "    nfev: 3333\n",
      "     nit: 108\n",
      " success: True\n",
      "       x: array([0., 0.])\n",
      "tolfloat: 0.4      fun: 4.440892098500626e-16\n",
      " message: 'Optimization terminated successfully.'\n",
      "    nfev: 3333\n",
      "     nit: 108\n",
      " success: True\n",
      "       x: array([0., 0.])\n",
      "tolfloat: 0.5      fun: 4.440892098500626e-16\n",
      " message: 'Optimization terminated successfully.'\n",
      "    nfev: 3303\n",
      "     nit: 107\n",
      " success: True\n",
      "       x: array([0., 0.])\n",
      "tolfloat: 0.6000000000000001      fun: 4.440892098500626e-16\n",
      " message: 'Optimization terminated successfully.'\n",
      "    nfev: 2973\n",
      "     nit: 96\n",
      " success: True\n",
      "       x: array([0., 0.])\n",
      "tolfloat: 0.7000000000000001      fun: 4.440892098500626e-16\n",
      " message: 'Optimization terminated successfully.'\n",
      "    nfev: 2793\n",
      "     nit: 90\n",
      " success: True\n",
      "       x: array([0., 0.])\n",
      "tolfloat: 0.8      fun: 4.440892098500626e-16\n",
      " message: 'Optimization terminated successfully.'\n",
      "    nfev: 2613\n",
      "     nit: 84\n",
      " success: True\n",
      "       x: array([0., 0.])\n",
      "tolfloat: 0.9      fun: 4.440892098500626e-16\n",
      " message: 'Optimization terminated successfully.'\n",
      "    nfev: 2643\n",
      "     nit: 85\n",
      " success: True\n",
      "       x: array([0., 0.])\n",
      "tolfloat: 1.0      fun: 4.440892098500626e-16\n",
      " message: 'Optimization terminated successfully.'\n",
      "    nfev: 2553\n",
      "     nit: 82\n",
      " success: True\n",
      "       x: array([0., 0.])\n"
     ]
    },
    {
     "data": {
      "image/png": "[encoded data removed]",
      "text/plain": [
       "<Figure size 432x288 with 1 Axes>"
      ]
     },
     "metadata": {
      "needs_background": "light"
     },
     "output_type": "display_data"
    }
   ],
   "source": [
    "def ackley(x):\n",
    "    arg1 = -0.2 * np.sqrt(0.5 * (x[0] ** 2 + x[1] ** 2))\n",
    "    arg2 = 0.5 * (np.cos(2. * np.pi * x[0]) + np.cos(2. * np.pi * x[1]))\n",
    "    return -20. * np.exp(arg1) - np.exp(arg2) + 20. + np.e\n",
    "\n",
    "bounds = [(-10, 10), (-10, 10)]\n",
    "\n",
    "\n",
    "result_dict = {}\n",
    "for i in np.arange(0, 1.1, 0.1):\n",
    "    result = differential_evolution(ackley, bounds, seed=42, recombination = i)\n",
    "    result_dict = result\n",
    "    print('tolfloat:', i, result_dict)\n",
    "    plt.plot(i, result_dict['nit'], 'x')"
   ]
  },
  {
   "cell_type": "code",
   "execution_count": 70,
   "id": "inclusive-vocabulary",
   "metadata": {},
   "outputs": [
    {
     "name": "stdout",
     "output_type": "stream",
     "text": [
      "Стратегия: immediate 90\n",
      "Стратегия: deferred 122\n"
     ]
    },
    {
     "data": {
      "image/png": "[encoded data removed]",
      "text/plain": [
       "<Figure size 432x288 with 1 Axes>"
      ]
     },
     "metadata": {
      "needs_background": "light"
     },
     "output_type": "display_data"
    }
   ],
   "source": [
    "def ackley(x):\n",
    "    arg1 = -0.2 * np.sqrt(0.5 * (x[0] ** 2 + x[1] ** 2))\n",
    "    arg2 = 0.5 * (np.cos(2. * np.pi * x[0]) + np.cos(2. * np.pi * x[1]))\n",
    "    return -20. * np.exp(arg1) - np.exp(arg2) + 20. + np.e\n",
    "\n",
    "bounds = [(-10, 10), (-10, 10)]\n",
    "\n",
    "upd = ['immediate', 'deferred']\n",
    "i=0\n",
    "result_dict = {}\n",
    "for i in range(len(upd)):\n",
    "    result = differential_evolution(ackley, bounds, seed=42, updating = upd[i])\n",
    "    result_dict = result\n",
    "    print('Стратегия:', upd[i], result_dict['nit'])\n",
    "    plt.plot(upd[i], result_dict['nit'], 'x')"
   ]
  }
 ],
 "metadata": {
  "kernelspec": {
   "display_name": "Python 3",
   "language": "python",
   "name": "python3"
  },
  "language_info": {
   "codemirror_mode": {
    "name": "ipython",
    "version": 3
   },
   "file_extension": ".py",
   "mimetype": "text/x-python",
   "name": "python",
   "nbconvert_exporter": "python",
   "pygments_lexer": "ipython3",
   "version": "3.8.8"
  }
 },
 "nbformat": 4,
 "nbformat_minor": 5
}

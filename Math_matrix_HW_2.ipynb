{
 "cells": [
  {
   "cell_type": "markdown",
   "id": "adult-springer",
   "metadata": {},
   "source": [
    "Уровень 0:\n",
    "Создайте матрицу 3 на 3, заполненную числами от 1 до 9\n",
    "Прибавьте к ней матрицу с единицами на диагонале\n",
    "Умножьте полученную матрицу на вектор (1, 2, 3)\n",
    "Посчитайте обратную матрицу к полученной в результате прибавления матрице"
   ]
  },
  {
   "cell_type": "code",
   "execution_count": 1,
   "id": "entire-minute",
   "metadata": {},
   "outputs": [],
   "source": [
    "import numpy as np\n",
    "import matplotlib.pyplot as plt"
   ]
  },
  {
   "cell_type": "code",
   "execution_count": 26,
   "id": "collect-strike",
   "metadata": {},
   "outputs": [
    {
     "data": {
      "text/plain": [
       "array([[1, 2, 3],\n",
       "       [4, 5, 6],\n",
       "       [7, 8, 9]])"
      ]
     },
     "execution_count": 26,
     "metadata": {},
     "output_type": "execute_result"
    }
   ],
   "source": [
    "N = np.array([[1, 2, 3], [4, 5, 6], [7, 8, 9]])\n",
    "N"
   ]
  },
  {
   "cell_type": "code",
   "execution_count": 10,
   "id": "simple-costs",
   "metadata": {},
   "outputs": [
    {
     "data": {
      "text/plain": [
       "array([[1., 0., 0.],\n",
       "       [0., 1., 0.],\n",
       "       [0., 0., 1.]])"
      ]
     },
     "execution_count": 10,
     "metadata": {},
     "output_type": "execute_result"
    }
   ],
   "source": [
    "I = np.eye(3)\n",
    "I"
   ]
  },
  {
   "cell_type": "code",
   "execution_count": 27,
   "id": "formed-oxford",
   "metadata": {},
   "outputs": [
    {
     "data": {
      "text/plain": [
       "array([[ 2.,  2.,  3.],\n",
       "       [ 4.,  6.,  6.],\n",
       "       [ 7.,  8., 10.]])"
      ]
     },
     "execution_count": 27,
     "metadata": {},
     "output_type": "execute_result"
    }
   ],
   "source": [
    "C = N + I\n",
    "C"
   ]
  },
  {
   "cell_type": "code",
   "execution_count": 15,
   "id": "necessary-ready",
   "metadata": {},
   "outputs": [
    {
     "data": {
      "text/plain": [
       "array([1, 2, 3])"
      ]
     },
     "execution_count": 15,
     "metadata": {},
     "output_type": "execute_result"
    }
   ],
   "source": [
    "b = np.array([1, 2, 3])\n",
    "b"
   ]
  },
  {
   "cell_type": "code",
   "execution_count": 22,
   "id": "dietary-indonesian",
   "metadata": {},
   "outputs": [
    {
     "data": {
      "text/plain": [
       "array([31., 38., 45.])"
      ]
     },
     "execution_count": 22,
     "metadata": {},
     "output_type": "execute_result"
    }
   ],
   "source": [
    "D = np.dot(b, C)\n",
    "D"
   ]
  },
  {
   "cell_type": "code",
   "execution_count": 23,
   "id": "subjective-coordination",
   "metadata": {},
   "outputs": [
    {
     "data": {
      "text/plain": [
       "array([[-6.00000000e+00, -2.00000000e+00,  3.00000000e+00],\n",
       "       [-1.00000000e+00,  5.00000000e-01,  2.22044605e-17],\n",
       "       [ 5.00000000e+00,  1.00000000e+00, -2.00000000e+00]])"
      ]
     },
     "execution_count": 23,
     "metadata": {},
     "output_type": "execute_result"
    }
   ],
   "source": [
    "np.linalg.inv(C)"
   ]
  },
  {
   "cell_type": "markdown",
   "id": "electoral-monitor",
   "metadata": {},
   "source": [
    "\n",
    "Уровень 1:\n",
    "Дан объект в 2d пространстве:\n",
    "\n",
    "import numpy as np\n",
    "import matplotlib.pyplot as plt\n",
    "\n",
    "A = [\n",
    "[-100, -100, 1],\n",
    "[-100, 100, 1],\n",
    "[100, 100, 1],\n",
    "[0, 0, 1],\n",
    "[100, -100, 1],\n",
    "[-100, -100, 1]\n",
    "]\n",
    "\n",
    "A = np.array(A)\n",
    "x = A[:,0]\n",
    "y = A[:,1]\n",
    "\n",
    "plt.plot(x, y)\n",
    "plt.ylim([-200, 200])\n",
    "plt.xlim([-200, 200])\n",
    "При помощи матричных операций выполните:\n",
    "\n",
    "Уменьшить объект в два раза\n",
    "Повернуть на 130 градусов\n",
    "Отразить объект относительно прямой y=x\n",
    "Выполнить смещение объекта и масштабирование (применить 2 матрицы трансформаций). Смещение на (200, 300) и масштабирование на (0.5, 1.2)"
   ]
  },
  {
   "cell_type": "code",
   "execution_count": 2,
   "id": "loose-authorization",
   "metadata": {},
   "outputs": [],
   "source": [
    "A = [\n",
    "[-100, -100, 1],\n",
    "[-100, 100, 1],\n",
    "[100, 100, 1],\n",
    "[0, 0, 1],\n",
    "[100, -100, 1],\n",
    "[-100, -100, 1]\n",
    "]"
   ]
  },
  {
   "cell_type": "code",
   "execution_count": 3,
   "id": "substantial-survey",
   "metadata": {},
   "outputs": [
    {
     "data": {
      "text/plain": [
       "array([[-100, -100,    1],\n",
       "       [-100,  100,    1],\n",
       "       [ 100,  100,    1],\n",
       "       [   0,    0,    1],\n",
       "       [ 100, -100,    1],\n",
       "       [-100, -100,    1]])"
      ]
     },
     "execution_count": 3,
     "metadata": {},
     "output_type": "execute_result"
    }
   ],
   "source": [
    "A = np.array(A)\n",
    "A"
   ]
  },
  {
   "cell_type": "code",
   "execution_count": 19,
   "id": "practical-confusion",
   "metadata": {},
   "outputs": [],
   "source": [
    "x = A[:,0]\n",
    "y = A[:,1]\n"
   ]
  },
  {
   "cell_type": "code",
   "execution_count": 5,
   "id": "amber-admission",
   "metadata": {},
   "outputs": [
    {
     "data": {
      "text/plain": [
       "1"
      ]
     },
     "execution_count": 5,
     "metadata": {},
     "output_type": "execute_result"
    }
   ],
   "source": [
    "A[0,2]"
   ]
  },
  {
   "cell_type": "code",
   "execution_count": 6,
   "id": "portuguese-times",
   "metadata": {},
   "outputs": [
    {
     "data": {
      "text/plain": [
       "(-200.0, 200.0)"
      ]
     },
     "execution_count": 6,
     "metadata": {},
     "output_type": "execute_result"
    },
    {
     "data": {
      "image/png": "[encoded data removed]",
      "text/plain": [
       "<Figure size 432x288 with 1 Axes>"
      ]
     },
     "metadata": {
      "needs_background": "light"
     },
     "output_type": "display_data"
    }
   ],
   "source": [
    "plt.plot(x, y)\n",
    "plt.ylim([-200, 200])\n",
    "plt.xlim([-200, 200])"
   ]
  },
  {
   "cell_type": "markdown",
   "id": "thick-familiar",
   "metadata": {},
   "source": [
    "Уменьшить объект в два раза"
   ]
  },
  {
   "cell_type": "code",
   "execution_count": 7,
   "id": "becoming-scanner",
   "metadata": {},
   "outputs": [
    {
     "data": {
      "text/plain": [
       "array([[-50. , -50. ,   0.5],\n",
       "       [-50. ,  50. ,   0.5],\n",
       "       [ 50. ,  50. ,   0.5],\n",
       "       [  0. ,   0. ,   0.5],\n",
       "       [ 50. , -50. ,   0.5],\n",
       "       [-50. , -50. ,   0.5]])"
      ]
     },
     "execution_count": 7,
     "metadata": {},
     "output_type": "execute_result"
    }
   ],
   "source": [
    "Z = 0.5 * A\n",
    "Z"
   ]
  },
  {
   "cell_type": "code",
   "execution_count": 47,
   "id": "hourly-protection",
   "metadata": {},
   "outputs": [],
   "source": [
    "xx = Z[:,0]\n",
    "yy = Z[:,1]"
   ]
  },
  {
   "cell_type": "code",
   "execution_count": 9,
   "id": "ongoing-stress",
   "metadata": {},
   "outputs": [
    {
     "data": {
      "text/plain": [
       "(-200.0, 200.0)"
      ]
     },
     "execution_count": 9,
     "metadata": {},
     "output_type": "execute_result"
    },
    {
     "data": {
      "image/png": "[encoded data removed]",
      "text/plain": [
       "<Figure size 432x288 with 1 Axes>"
      ]
     },
     "metadata": {
      "needs_background": "light"
     },
     "output_type": "display_data"
    }
   ],
   "source": [
    "plt.plot(xx, yy)\n",
    "plt.ylim([-200, 200])\n",
    "plt.xlim([-200, 200])"
   ]
  },
  {
   "cell_type": "markdown",
   "id": "surprised-ballot",
   "metadata": {},
   "source": [
    "Повернуть на 130 градусов"
   ]
  },
  {
   "cell_type": "code",
   "execution_count": 55,
   "id": "married-designation",
   "metadata": {},
   "outputs": [
    {
     "data": {
      "text/plain": [
       "array([[-0.36729133,  0.93010595],\n",
       "       [-0.93010595, -0.36729133]])"
      ]
     },
     "execution_count": 55,
     "metadata": {},
     "output_type": "execute_result"
    }
   ],
   "source": [
    "#матрица поворота на 130 градусов\n",
    "M = np.array([[np.cos(130), -np.sin(130)], [np.sin(130), np.cos(130)]])\n",
    "M"
   ]
  },
  {
   "cell_type": "code",
   "execution_count": 61,
   "id": "violent-absolute",
   "metadata": {},
   "outputs": [
    {
     "name": "stdout",
     "output_type": "stream",
     "text": [
      "[[ 36.72913305 -93.01059502]\n",
      " [ 93.01059502  36.72913305]]\n",
      "[[ 36.72913305  93.01059502]\n",
      " [ 93.01059502 -36.72913305]]\n",
      "[[-36.72913305  93.01059502]\n",
      " [-93.01059502 -36.72913305]]\n",
      "[[-0.  0.]\n",
      " [-0. -0.]]\n",
      "[[-36.72913305 -93.01059502]\n",
      " [-93.01059502  36.72913305]]\n",
      "[[ 36.72913305 -93.01059502]\n",
      " [ 93.01059502  36.72913305]]\n"
     ]
    },
    {
     "data": {
      "image/png": "[encoded data removed]",
      "text/plain": [
       "<Figure size 432x288 with 1 Axes>"
      ]
     },
     "metadata": {
      "needs_background": "light"
     },
     "output_type": "display_data"
    }
   ],
   "source": [
    "# трансформируем исходную матрицу и берем первые две строчки для х и у соответственно\n",
    "xx = list(A.T)[0]\n",
    "yy = list(A.T)[1]\n",
    "v2=[]\n",
    "for i in range(6):\n",
    "    v = np.array([xx[i], yy[i]]) # получаем массив точек в виде вектора строки\n",
    "    v1 = v.T # трансформируем, чтобы получить вектор столбец\n",
    "    v2 = M*v1 # получаем вектора после умножения на матрицу трансформации\n",
    "    print(v2)\n",
    "    plt.plot(v2[0],v2[1])\n",
    "    plt.ylim([-200, 200])\n",
    "    plt.xlim([-200, 200])"
   ]
  }
 ],
 "metadata": {
  "kernelspec": {
   "display_name": "Python 3",
   "language": "python",
   "name": "python3"
  },
  "language_info": {
   "codemirror_mode": {
    "name": "ipython",
    "version": 3
   },
   "file_extension": ".py",
   "mimetype": "text/x-python",
   "name": "python",
   "nbconvert_exporter": "python",
   "pygments_lexer": "ipython3",
   "version": "3.8.8"
  }
 },
 "nbformat": 4,
 "nbformat_minor": 5
}

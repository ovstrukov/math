{
 "cells": [
  {
   "cell_type": "markdown",
   "id": "ready-rescue",
   "metadata": {},
   "source": [
    "Посчитайте значение первой и второй производной функции:\n",
    "\n",
    "f(x) = x^5 + 4sin(2x) + cos(3x+3)\n",
    "\n",
    "В точке x = 1."
   ]
  },
  {
   "cell_type": "code",
   "execution_count": 54,
   "id": "phantom-substance",
   "metadata": {},
   "outputs": [],
   "source": [
    "from scipy import misc\n",
    "import numpy as np"
   ]
  },
  {
   "cell_type": "code",
   "execution_count": 55,
   "id": "interracial-austria",
   "metadata": {},
   "outputs": [
    {
     "name": "stdout",
     "output_type": "stream",
     "text": [
      "Before Differentiation : x**5 + 4*sin(2*x) + cos(3*x + 3)\n",
      "After Differentiation : 5*x**4 - 3*sin(3*x + 3) + 8*cos(2*x)\n",
      "After Double Differentiation : 20*x**3 - 16*sin(2*x) - 9*cos(3*x + 3)\n"
     ]
    }
   ],
   "source": [
    "# импортируем sympy\n",
    "from sympy import * \n",
    "# определяем переменные\n",
    "x, y = symbols('x y')\n",
    "f = x**5 + 4 * sin(2*x) + cos(3*x+3)\n",
    "\n",
    "print(\"Before Differentiation : {}\".format(f))\n",
    "\n",
    "# используем sympy.diff() метод для получения производной\n",
    "dif = diff(f, x)\n",
    "\n",
    "print(\"After Differentiation : {}\".format(dif))\n",
    "\n",
    "dif2 = diff(dif, x)\n",
    "print(\"After Double Differentiation : {}\".format(dif2))\n"
   ]
  },
  {
   "cell_type": "code",
   "execution_count": 74,
   "id": "modular-final",
   "metadata": {},
   "outputs": [
    {
     "name": "stdout",
     "output_type": "stream",
     "text": [
      "Первая производная 14.5258261267420\n",
      "Вторая производная 15.8769472723770\n"
     ]
    }
   ],
   "source": [
    "#используем misc.derivative для вычисления производной в точке x=1\n",
    "def g(x):\n",
    "        return (x**5 + 4*sin(2*x) + cos(3*x+3))\n",
    "print('Первая производная', misc.derivative(g, 1, n=1))\n",
    "print('Вторая производная', misc.derivative(g, 1, n=2))"
   ]
  },
  {
   "cell_type": "code",
   "execution_count": 57,
   "id": "swedish-webmaster",
   "metadata": {},
   "outputs": [
    {
     "data": {
      "text/plain": [
       "2.5090718022196383"
      ]
     },
     "execution_count": 57,
     "metadata": {},
     "output_type": "execute_result"
    }
   ],
   "source": [
    "5+8*np.cos(2)-3*np.sin(6)"
   ]
  },
  {
   "cell_type": "code",
   "execution_count": 58,
   "id": "honey-ghost",
   "metadata": {},
   "outputs": [
    {
     "data": {
      "text/plain": [
       "-3.1902914090642014"
      ]
     },
     "execution_count": 58,
     "metadata": {},
     "output_type": "execute_result"
    }
   ],
   "source": [
    "20*1**3 - 16*np.sin(2*1) - 9*np.cos(3*1 + 3)"
   ]
  },
  {
   "cell_type": "code",
   "execution_count": 72,
   "id": "structural-plant",
   "metadata": {},
   "outputs": [
    {
     "name": "stdout",
     "output_type": "stream",
     "text": [
      "2.50907180221964\n"
     ]
    }
   ],
   "source": [
    "d1 = 5*1**4 - 3*sin(3*1 + 3) + 8*cos(2*1)\n",
    "gfg = d1.evalf()\n",
    "print(gfg)"
   ]
  },
  {
   "cell_type": "code",
   "execution_count": 73,
   "id": "fallen-tulsa",
   "metadata": {},
   "outputs": [
    {
     "name": "stdout",
     "output_type": "stream",
     "text": [
      "-3.19029140906420\n"
     ]
    }
   ],
   "source": [
    "d2 = 20*1**3 - 16*sin(2*1) - 9*cos(3*1 + 3)\n",
    "gfg = d2.evalf()\n",
    "print(gfg)"
   ]
  },
  {
   "cell_type": "code",
   "execution_count": null,
   "id": "growing-holly",
   "metadata": {},
   "outputs": [],
   "source": []
  }
 ],
 "metadata": {
  "kernelspec": {
   "display_name": "Python 3",
   "language": "python",
   "name": "python3"
  },
  "language_info": {
   "codemirror_mode": {
    "name": "ipython",
    "version": 3
   },
   "file_extension": ".py",
   "mimetype": "text/x-python",
   "name": "python",
   "nbconvert_exporter": "python",
   "pygments_lexer": "ipython3",
   "version": "3.8.8"
  }
 },
 "nbformat": 4,
 "nbformat_minor": 5
}

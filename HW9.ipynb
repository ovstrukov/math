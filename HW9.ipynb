{
 "cells": [
  {
   "cell_type": "markdown",
   "id": "special-antibody",
   "metadata": {},
   "source": [
    "Домашнее задание \"Центральная Предельная Теорема и Закон Больших Чисел\"."
   ]
  },
  {
   "cell_type": "markdown",
   "id": "attended-weapon",
   "metadata": {},
   "source": [
    "\n",
    "Задание.\n",
    "В этом задании нужно убедиться, что ЦПТ действительно работает."
   ]
  },
  {
   "cell_type": "code",
   "execution_count": 1,
   "id": "hourly-german",
   "metadata": {},
   "outputs": [],
   "source": [
    "\n",
    "import pandas as pd\n",
    "import numpy as np\n",
    "import matplotlib.pyplot as plt\n",
    "import scipy.stats as sts\n",
    "%matplotlib inline"
   ]
  },
  {
   "cell_type": "markdown",
   "id": "underlying-cookie",
   "metadata": {},
   "source": [
    "\n",
    "Создайте случайную величину из любого выбранного вами распределения, для разных значений n сгенерируйте 1000 выборок размера n и постройте гистрограммы средних этих выборок."
   ]
  },
  {
   "cell_type": "code",
   "execution_count": 7,
   "id": "understood-nepal",
   "metadata": {},
   "outputs": [],
   "source": [
    "rv = sts.expon(0)\n",
    "sample = rv.rvs(size=1000)\n"
   ]
  },
  {
   "cell_type": "code",
   "execution_count": 8,
   "id": "different-wildlife",
   "metadata": {},
   "outputs": [
    {
     "data": {
      "image/png": "[encoded data removed]",
      "text/plain": [
       "<Figure size 432x288 with 1 Axes>"
      ]
     },
     "metadata": {
      "needs_background": "light"
     },
     "output_type": "display_data"
    }
   ],
   "source": [
    "x = np.linspace(0,2,100)\n",
    "pdf = rv.pdf(x)\n",
    "plt.hist(sample, density=True, bins=30, label='sample histogram')\n",
    "plt.plot(x, pdf, label='theoretical pdf', alpha=0.5)\n",
    "plt.legend()\n",
    "plt.ylabel('fraction of samples, $f(x)$')\n",
    "plt.xlabel('$x$')\n",
    "plt.show()"
   ]
  },
  {
   "cell_type": "code",
   "execution_count": 43,
   "id": "nasty-suicide",
   "metadata": {},
   "outputs": [
    {
     "data": {
      "text/plain": [
       "33"
      ]
     },
     "execution_count": 43,
     "metadata": {},
     "output_type": "execute_result"
    }
   ],
   "source": [
    "n1 = 2\n",
    "n1 = n1 + np.random.randint(100)\n",
    "n1"
   ]
  },
  {
   "cell_type": "code",
   "execution_count": 47,
   "id": "closed-judgment",
   "metadata": {},
   "outputs": [],
   "source": [
    "\n",
    "# Параметры запуска: размеры выборок и количество повторов генерации\n",
    "n1 = 2\n",
    "\n",
    "\n",
    "samples_count = 1000\n",
    "# Массивы для сохранения средних по выборкам\n",
    "a1 = np.array([])\n",
    "\n",
    "for number in range(samples_count):\n",
    "    # На каждом цикле генерируем выборки разных размеров\n",
    "    sample1 = rv.rvs(size=n1)\n",
    "    n1 = n1 + np.random.randint(100)\n",
    "    # Считаем среднее по каждой выборке и добавляем в массив средних\n",
    "    a1 = np.append(a1, sample1.mean())\n"
   ]
  },
  {
   "cell_type": "code",
   "execution_count": 67,
   "id": "comparative-contribution",
   "metadata": {},
   "outputs": [
    {
     "data": {
      "image/png": "[encoded data removed]",
      "text/plain": [
       "<Figure size 432x288 with 1 Axes>"
      ]
     },
     "metadata": {
      "needs_background": "light"
     },
     "output_type": "display_data"
    }
   ],
   "source": [
    "plt.hist(a1, density=True, bins=1000)\n",
    "plt.show()\n",
    "#Вывод: видим, что действительно распределение средних значений 1000 выборок размеров n1 стремится к нормальному распределению."
   ]
  }
 ],
 "metadata": {
  "kernelspec": {
   "display_name": "Python 3",
   "language": "python",
   "name": "python3"
  },
  "language_info": {
   "codemirror_mode": {
    "name": "ipython",
    "version": 3
   },
   "file_extension": ".py",
   "mimetype": "text/x-python",
   "name": "python",
   "nbconvert_exporter": "python",
   "pygments_lexer": "ipython3",
   "version": "3.8.8"
  }
 },
 "nbformat": 4,
 "nbformat_minor": 5
}

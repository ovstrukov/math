{
 "cells": [
  {
   "cell_type": "markdown",
   "metadata": {
    "id": "g1hQiFW7isGe"
   },
   "source": [
    "# Итоговая работа."
   ]
  },
  {
   "cell_type": "code",
   "execution_count": 14,
   "metadata": {
    "id": "NyZ7GotDi1Mp"
   },
   "outputs": [],
   "source": [
    "import matplotlib.pyplot as plt\n",
    "import numpy as np\n",
    "from sklearn.decomposition import PCA\n",
    "from scipy.optimize import minimize\n",
    "%matplotlib inline"
   ]
  },
  {
   "cell_type": "markdown",
   "metadata": {
    "id": "VZFf_auXisJd"
   },
   "source": [
    "## Задание 1"
   ]
  },
  {
   "cell_type": "markdown",
   "metadata": {
    "id": "ABMPXsuhisMO"
   },
   "source": [
    "Дана матрица рейтингов фильмов (строки - пользователи (10 человек), столбцы - фильмы (15 фильмов))"
   ]
  },
  {
   "cell_type": "code",
   "execution_count": 8,
   "metadata": {
    "id": "D4_Vshevi-4P"
   },
   "outputs": [],
   "source": [
    "raitings = np.array([[ 4,  4,  9,  4,  1,  6, 10,  7,  9,  6,  9,  2,  8,  6,  6],\n",
    "                     [ 9,  2,  5, 10,  7,  8, 10,  5,  6,  2,  1,  6,  8,  9,  7],\n",
    "                     [ 1,  6,  8,  8,  4,  9,  3,  8, 10,  5,  2,  6,  8,  1,  6],\n",
    "                     [ 6,  1,  9,  7,  7,  9,  2,  3,  5,  1,  6,  6,  3,  2,  7],\n",
    "                     [ 3,  7,  3,  5,  7,  9,  9,  6,  2,  9,  1,  2,  8, 10,  6],\n",
    "                     [ 8,  3,  7,  3,  8,  6,  1,  8,  8,  6,  1,  9,  4, 10,  1],\n",
    "                     [ 9,  8,  4,  8,  8, 10,  6,  1,  1,  2,  9,  5,  2,  7,  2],\n",
    "                     [ 4,  1,  6,  4,  3, 10,  4,  4,  2,  8,  7,  9,  3,  8,  3],\n",
    "                     [ 2,  7,  7,  6, 10,  6,  8,  9,  8,  6, 10,  1,  7, 10,  4],\n",
    "                     [ 5, 10,  8,  8,  9,  7,  2,  9,  9, 10,  8,  8,  8,  6, 10]])"
   ]
  },
  {
   "cell_type": "markdown",
   "metadata": {
    "id": "FuYpBPsTjBVa"
   },
   "source": [
    "**a)** Необходимо найти наиболее похожего пользователя по косинусной метрике для каждого из (ответ: 10 пар вида (x, y), где y - наиболее похожий пользователь на пользователя x).\n",
    "\n",
    "**b)** Предположим, вы захотели сжать признаковые описания пользователя с 15 фильмов, до, скажем, 5-ти признаков, как вы это сделаете?"
   ]
  },
  {
   "cell_type": "code",
   "execution_count": 9,
   "metadata": {},
   "outputs": [
    {
     "data": {
      "text/plain": [
       "[2, 9, 0.4059427825664745]"
      ]
     },
     "execution_count": 9,
     "metadata": {},
     "output_type": "execute_result"
    }
   ],
   "source": [
    "#надо найти угол между векторами, там где он минимален, там векторы максимально сонаправлены, пользователи наиболее похожи\n",
    "a1 = np.array([])\n",
    "#задаем переменную угла между векторами, по умолчанию ставим 90(векторы перпендикулярны)\n",
    "total = 90\n",
    "# прогоняем в цикле по всем пользователям(векторам, т.е. строкам)\n",
    "for i in range(10):\n",
    "    for j in range(10):\n",
    "        #исключаем случаи умножения вектора на самого себя\n",
    "        if i == j:\n",
    "            continue\n",
    "        else:\n",
    "            # x = i-ый  и y =j -ый пользователи\n",
    "            x = raitings[i]\n",
    "            y = raitings[j]\n",
    "            np.dot(x, y)\n",
    "            np.linalg.norm(x)\n",
    "            np.linalg.norm(y)\n",
    "            #находим cos из формулы скалярного произведения\n",
    "            cos = np.dot(x, y) / (np.linalg.norm(x) * np.linalg.norm(y))\n",
    "            #далее находим arccos, т.е. уже угол и выбираем наименьший\n",
    "            if np.arccos(cos) < total:\n",
    "                total = np.arccos(cos)\n",
    "                a1 = [i, j, total]\n",
    "                \n",
    "\n",
    "a1\n",
    "#получаем, что 2 и 9 пользователи максимально похожи"
   ]
  },
  {
   "cell_type": "code",
   "execution_count": 20,
   "metadata": {},
   "outputs": [
    {
     "data": {
      "text/plain": [
       "array([[-5.30986101,  1.92919845, -4.93300027,  2.70188013,  5.50497886],\n",
       "       [ 2.87763403,  2.71659559,  1.40592782,  7.26325751, -4.50322291],\n",
       "       [-4.94010408, -6.68861167, -0.94550184,  3.61556661, -0.68969272],\n",
       "       [ 5.14939908, -6.28027284, -4.65978558,  1.09024004, -1.01471112],\n",
       "       [-1.37488691,  7.54357985,  4.00834369,  2.1284001 , -0.16324949],\n",
       "       [ 2.65341956, -3.77075601,  8.58430748, -1.46628319,  1.67401769],\n",
       "       [ 8.61573944,  3.78603335, -4.02721027, -4.37582577, -3.13880277],\n",
       "       [ 5.39658258, -1.0170466 ,  1.01456742, -1.89512837,  6.54883538],\n",
       "       [-5.7843488 ,  5.29857107, -1.48083611, -3.71295542,  0.21312695],\n",
       "       [-7.2835739 , -3.51729118,  1.03318766, -5.34915166, -4.43127987]])"
      ]
     },
     "execution_count": 20,
     "metadata": {},
     "output_type": "execute_result"
    }
   ],
   "source": [
    "pca = PCA(n_components=5)\n",
    "X = pca.fit_transform(raitings)\n",
    "X"
   ]
  },
  {
   "cell_type": "markdown",
   "metadata": {
    "id": "QRJEo5ydjFjG"
   },
   "source": [
    "## Задание 2"
   ]
  },
  {
   "cell_type": "markdown",
   "metadata": {
    "id": "39rGnTIojFlV"
   },
   "source": [
    "\n",
    "Вычислите производную $tg^2(sin(x) + cos(2x+3))$ в точке $x_0=1$ (на python и на бумаге)."
   ]
  },
  {
   "cell_type": "code",
   "execution_count": 21,
   "metadata": {},
   "outputs": [],
   "source": [
    "from scipy import misc\n",
    "import numpy as np"
   ]
  },
  {
   "cell_type": "code",
   "execution_count": 36,
   "metadata": {},
   "outputs": [
    {
     "name": "stdout",
     "output_type": "stream",
     "text": [
      "Функция : tan(sin(x) + cos(2*x + 3))**2\n",
      "Производная функции : 2*(-2*sin(2*x + 3) + cos(x))*(tan(sin(x) + cos(2*x + 3))**2 + 1)*tan(sin(x) + cos(2*x + 3))\n"
     ]
    }
   ],
   "source": [
    "# импортируем sympy\n",
    "from sympy import * \n",
    "# определяем переменные\n",
    "x, y = symbols('x y')\n",
    "\n",
    "f = (tan(sin(x)+cos(2*x+3)))**2\n",
    "\n",
    "print(\"Функция : {}\".format(f))\n",
    "\n",
    "# используем sympy.diff() метод для получения производной\n",
    "dif = diff(f, x)\n",
    "\n",
    "print(\"Производная функции : {}\".format(dif))\n",
    "\n"
   ]
  },
  {
   "cell_type": "code",
   "execution_count": 38,
   "metadata": {},
   "outputs": [
    {
     "name": "stdout",
     "output_type": "stream",
     "text": [
      "Первая производная в точке x=1: 55.3859176433136\n"
     ]
    }
   ],
   "source": [
    "#используем misc.derivative для вычисления производной в точке x=1\n",
    "def g(x):\n",
    "        return (tan(sin(x)+cos(2*x+3)))**2\n",
    "print('Первая производная в точке x=1:', misc.derivative(g, 1, n=1, dx=1e-6))\n"
   ]
  },
  {
   "cell_type": "code",
   "execution_count": 35,
   "metadata": {},
   "outputs": [
    {
     "name": "stdout",
     "output_type": "stream",
     "text": [
      "55.3859176353379\n"
     ]
    }
   ],
   "source": [
    "d1 = 2*(-2*sin(2*1 + 3) + cos(1))*(tan(sin(1) + cos(2*1 + 3))**2 + 1)*tan(sin(1) + cos(2*1 + 3))\n",
    "gfg = d1.evalf()\n",
    "print(gfg)"
   ]
  },
  {
   "cell_type": "markdown",
   "metadata": {
    "id": "T1y3_xiwjFpC"
   },
   "source": [
    "## Задание 3"
   ]
  },
  {
   "cell_type": "markdown",
   "metadata": {
    "id": "1EyIA1IQjU7w"
   },
   "source": [
    "Дана функция с неизвестными параметрами a и b, вам также известны значения функции fx в точках x. Найдите оптимальные параметры a, b, минимизирующие абсолютную ошибку **error**."
   ]
  },
  {
   "cell_type": "code",
   "execution_count": 40,
   "metadata": {
    "id": "eoBdc8Pwjhmk"
   },
   "outputs": [],
   "source": [
    "def f(x, a, b):\n",
    "    return np.e**a * np.sin(b*x) + x"
   ]
  },
  {
   "cell_type": "code",
   "execution_count": 39,
   "metadata": {
    "id": "nftvBKK2jho9"
   },
   "outputs": [],
   "source": [
    "x = np.array([0.        , 0.26315789, 0.52631579, 0.78947368, 1.05263158,\n",
    "              1.31578947, 1.57894737, 1.84210526, 2.10526316, 2.36842105,\n",
    "              2.63157895, 2.89473684, 3.15789474, 3.42105263, 3.68421053,\n",
    "              3.94736842, 4.21052632, 4.47368421, 4.73684211, 5.        ])"
   ]
  },
  {
   "cell_type": "code",
   "execution_count": 41,
   "metadata": {
    "id": "Dk9sBWrKjhrH"
   },
   "outputs": [],
   "source": [
    "fx = np.array([  0.        , -12.01819092, -18.90968634, -17.68786571,\n",
    "                -8.7529108 ,   4.27524517,  16.06801336,  21.81250213,\n",
    "                19.22059845,   9.48411207,  -3.22273056, -13.48576488,\n",
    "               -16.91096359, -11.95866834,  -0.58630088,  12.56873816,\n",
    "                22.12489421,  24.20292139,  18.04522521,   6.33211092])"
   ]
  },
  {
   "cell_type": "code",
   "execution_count": 42,
   "metadata": {
    "id": "X_4afDeijht2"
   },
   "outputs": [
    {
     "data": {
      "image/png": "[encoded data removed]",
      "text/plain": [
       "<Figure size 432x288 with 1 Axes>"
      ]
     },
     "metadata": {
      "needs_background": "light"
     },
     "output_type": "display_data"
    }
   ],
   "source": [
    "plt.plot(x, fx)\n",
    "plt.show()"
   ]
  },
  {
   "cell_type": "code",
   "execution_count": 43,
   "metadata": {
    "id": "oXoGpFu0i-6g"
   },
   "outputs": [],
   "source": [
    "def error(params):\n",
    "    return np.sum(np.abs(fx - f(x, params[0], params[1])))"
   ]
  },
  {
   "cell_type": "code",
   "execution_count": 47,
   "metadata": {},
   "outputs": [
    {
     "data": {
      "text/plain": [
       "     fun: 0.07674566111565184\n",
       "   maxcv: 0.0\n",
       " message: 'Optimization terminated successfully.'\n",
       "    nfev: 135\n",
       "  status: 1\n",
       " success: True\n",
       "       x: array([ 3.00018796, -2.50008926])"
      ]
     },
     "execution_count": 47,
     "metadata": {},
     "output_type": "execute_result"
    }
   ],
   "source": [
    "#поможет функция minimize(), с ней легче всего, просто передаём функцию ошибки, начальные значения [0, 0] \n",
    "#и задаём метод (в файле с рекомендациями 'COBYLA'), \n",
    "#в результате выполнения получите в части x: оптимальные значения параметров a и b.\n",
    "\n",
    "x0 = [0, 0] \n",
    "res = minimize(error, x0, method='COBYLA')\n",
    "res"
   ]
  },
  {
   "cell_type": "markdown",
   "metadata": {
    "id": "4AXJ_r5UjrY5"
   },
   "source": [
    "## Задание 4"
   ]
  },
  {
   "cell_type": "markdown",
   "metadata": {
    "id": "zRnYGwhXjtQB"
   },
   "source": [
    "Создайте собственную дискретную случайную величину с 20 значениями. Сгенерируйте 1000 выборок размера 50. Посчитайте среднее для каждой выборки. Постройте гистограмму распределения средних."
   ]
  },
  {
   "cell_type": "code",
   "execution_count": 51,
   "metadata": {},
   "outputs": [
    {
     "data": {
      "text/plain": [
       "array([38, 12, 29, 39, 60, 42, 27,  4, 32, 95, 60,  1, 75, 76, 16,  0, 92,\n",
       "       56, 48, 93])"
      ]
     },
     "execution_count": 51,
     "metadata": {},
     "output_type": "execute_result"
    }
   ],
   "source": [
    "rv = np.random.randint(0, 100, size=20)\n",
    "rv"
   ]
  },
  {
   "cell_type": "code",
   "execution_count": 54,
   "metadata": {},
   "outputs": [
    {
     "data": {
      "text/plain": [
       "array([60,  0, 48, 48, 39, 95, 60, 42, 56, 60, 92, 56,  0, 12, 32, 29, 60,\n",
       "       56, 75, 16, 76,  4,  4, 29, 76, 76, 60, 38, 48, 16, 60, 75,  0, 29,\n",
       "       95, 56,  4, 48, 29, 76,  0, 12, 39,  0, 42, 16, 56, 92,  4, 42])"
      ]
     },
     "execution_count": 54,
     "metadata": {},
     "output_type": "execute_result"
    }
   ],
   "source": [
    "#rv = sts.expon(0)\n",
    "np.random.choice(rv, size=50)\n"
   ]
  },
  {
   "cell_type": "code",
   "execution_count": 57,
   "metadata": {},
   "outputs": [
    {
     "data": {
      "text/plain": [
       "array([43.62, 43.12, 47.76, 41.  , 42.8 , 43.52, 46.04, 46.02, 40.8 ,\n",
       "       41.88, 35.28, 39.02, 41.78, 46.  , 45.2 , 43.9 , 47.72, 42.96,\n",
       "       47.4 , 36.36, 50.84, 47.62, 44.1 , 46.78, 40.8 , 48.42, 42.98,\n",
       "       42.28, 45.28, 45.66, 42.12, 44.06, 44.38, 40.12, 47.54, 41.18,\n",
       "       42.82, 51.22, 42.32, 44.26, 52.92, 47.28, 47.32, 48.34, 52.78,\n",
       "       51.36, 46.96, 40.72, 42.66, 43.82, 38.32, 47.14, 39.72, 47.7 ,\n",
       "       44.1 , 50.78, 47.48, 46.8 , 51.84, 44.96, 49.54, 45.24, 44.22,\n",
       "       41.04, 45.32, 42.4 , 40.3 , 43.76, 44.68, 43.5 , 46.28, 39.5 ,\n",
       "       43.14, 45.7 , 43.6 , 42.04, 46.72, 37.32, 42.26, 40.08, 49.64,\n",
       "       48.76, 46.94, 48.6 , 44.14, 53.5 , 37.5 , 47.88, 49.14, 36.02,\n",
       "       42.44, 42.64, 42.46, 46.08, 46.62, 42.34, 49.32, 42.18, 47.16,\n",
       "       42.24, 48.12, 49.66, 48.98, 46.98, 48.56, 51.54, 40.74, 37.52,\n",
       "       45.7 , 40.96, 43.88, 46.52, 41.64, 48.62, 45.8 , 48.02, 47.96,\n",
       "       46.32, 42.96, 46.12, 41.28, 43.5 , 41.84, 40.34, 48.5 , 50.66,\n",
       "       41.9 , 48.12, 37.76, 48.36, 44.42, 37.74, 39.54, 41.18, 54.78,\n",
       "       48.42, 49.04, 40.1 , 41.56, 44.52, 46.66, 50.3 , 44.74, 46.46,\n",
       "       47.3 , 49.48, 42.32, 51.2 , 46.44, 40.98, 42.52, 39.88, 45.66,\n",
       "       53.84, 50.14, 40.58, 37.4 , 47.2 , 53.62, 41.08, 48.2 , 40.22,\n",
       "       41.74, 40.24, 49.48, 48.98, 47.22, 42.7 , 49.14, 47.74, 44.06,\n",
       "       46.94, 43.66, 53.38, 39.28, 44.54, 41.3 , 49.4 , 50.92, 39.8 ,\n",
       "       36.22, 45.34, 45.52, 42.8 , 47.48, 39.1 , 41.76, 39.28, 42.56,\n",
       "       43.42, 45.48, 50.3 , 46.72, 42.54, 48.34, 43.5 , 37.8 , 40.32,\n",
       "       37.64, 47.32, 42.86, 42.5 , 45.34, 39.76, 45.46, 46.4 , 39.64,\n",
       "       44.06, 38.94, 52.02, 40.98, 46.04, 43.94, 49.36, 38.28, 45.46,\n",
       "       46.8 , 43.98, 49.06, 44.4 , 38.92, 45.5 , 49.16, 46.92, 52.28,\n",
       "       40.52, 45.66, 41.54, 46.14, 36.8 , 45.88, 42.4 , 43.26, 42.68,\n",
       "       46.88, 49.82, 47.4 , 40.08, 45.52, 47.74, 43.88, 45.78, 43.22,\n",
       "       48.84, 43.22, 48.04, 49.76, 44.96, 49.56, 49.1 , 41.24, 46.42,\n",
       "       50.36, 46.94, 40.94, 43.02, 45.14, 47.32, 48.54, 40.78, 41.44,\n",
       "       39.1 , 45.94, 41.66, 49.74, 50.74, 49.96, 40.14, 48.8 , 42.02,\n",
       "       39.02, 45.6 , 45.3 , 42.18, 49.24, 40.36, 47.16, 49.68, 43.64,\n",
       "       45.52, 45.88, 43.62, 43.96, 45.38, 48.28, 42.36, 50.  , 42.68,\n",
       "       38.64, 42.56, 54.38, 40.24, 43.32, 45.02, 44.52, 45.2 , 50.12,\n",
       "       46.52, 47.5 , 40.4 , 35.46, 41.68, 44.66, 43.86, 40.42, 46.24,\n",
       "       40.68, 46.18, 51.26, 49.58, 46.6 , 43.1 , 43.8 , 46.02, 47.4 ,\n",
       "       50.74, 53.1 , 40.74, 46.82, 42.2 , 42.38, 42.82, 42.52, 45.06,\n",
       "       40.5 , 47.34, 49.6 , 52.12, 39.18, 52.54, 41.76, 43.84, 48.22,\n",
       "       47.02, 34.62, 45.5 , 51.64, 37.92, 40.4 , 44.14, 40.66, 52.18,\n",
       "       41.18, 40.4 , 46.34, 49.16, 46.62, 48.34, 41.48, 47.6 , 49.62,\n",
       "       46.6 , 45.38, 49.5 , 41.24, 48.06, 43.78, 49.64, 40.16, 44.26,\n",
       "       45.36, 39.6 , 48.6 , 43.66, 37.04, 42.4 , 46.24, 46.08, 44.34,\n",
       "       43.88, 45.14, 46.02, 48.18, 41.94, 46.9 , 42.52, 47.14, 48.18,\n",
       "       50.  , 37.82, 47.12, 43.48, 49.4 , 45.06, 45.6 , 41.4 , 45.44,\n",
       "       46.02, 48.18, 42.64, 41.9 , 40.62, 44.76, 48.92, 33.44, 41.42,\n",
       "       42.02, 43.38, 44.4 , 42.36, 47.66, 41.44, 44.68, 42.76, 39.7 ,\n",
       "       46.7 , 39.76, 38.48, 47.08, 44.68, 49.4 , 40.28, 38.14, 41.5 ,\n",
       "       54.1 , 48.26, 42.74, 41.14, 42.  , 53.3 , 42.92, 41.94, 42.06,\n",
       "       50.78, 46.34, 48.34, 40.26, 41.78, 39.5 , 44.4 , 45.7 , 44.92,\n",
       "       45.68, 41.44, 37.88, 54.94, 46.76, 42.7 , 50.64, 52.5 , 48.46,\n",
       "       49.94, 40.  , 48.84, 54.02, 39.98, 41.28, 39.78, 44.36, 40.94,\n",
       "       42.  , 44.32, 48.56, 40.06, 47.98, 46.9 , 42.2 , 43.96, 57.24,\n",
       "       48.82, 45.44, 52.52, 48.66, 44.86, 46.28, 42.  , 47.96, 40.88,\n",
       "       43.66, 38.8 , 51.94, 45.4 , 46.  , 46.58, 47.42, 45.84, 41.3 ,\n",
       "       43.16, 57.12, 40.2 , 45.7 , 41.78, 39.36, 51.46, 50.5 , 50.08,\n",
       "       51.1 , 51.66, 43.9 , 40.96, 41.8 , 51.8 , 49.98, 51.58, 47.02,\n",
       "       39.78, 42.68, 51.68, 46.68, 45.64, 40.06, 47.66, 43.48, 45.66,\n",
       "       57.76, 44.06, 47.42, 52.28, 39.72, 41.84, 41.4 , 41.56, 44.18,\n",
       "       40.88, 46.72, 48.88, 40.44, 43.28, 40.54, 49.4 , 47.46, 50.38,\n",
       "       41.58, 46.68, 46.42, 53.14, 43.24, 47.5 , 51.32, 46.38, 48.64,\n",
       "       45.76, 46.84, 44.82, 45.68, 42.6 , 44.26, 40.74, 43.92, 44.26,\n",
       "       49.22, 47.2 , 48.32, 44.14, 45.3 , 49.68, 40.78, 43.58, 41.92,\n",
       "       47.26, 44.08, 49.46, 42.64, 38.56, 45.78, 45.08, 45.72, 53.98,\n",
       "       41.46, 48.18, 48.68, 45.16, 41.4 , 35.3 , 46.36, 43.34, 41.82,\n",
       "       42.44, 36.68, 41.32, 52.22, 43.62, 44.06, 51.16, 48.98, 41.22,\n",
       "       54.64, 50.34, 41.42, 37.56, 46.5 , 46.2 , 44.72, 56.42, 44.26,\n",
       "       43.4 , 45.36, 55.  , 41.18, 39.98, 54.24, 41.66, 46.28, 46.48,\n",
       "       42.74, 47.64, 44.1 , 35.9 , 49.84, 42.26, 38.52, 46.5 , 48.48,\n",
       "       44.44, 44.32, 50.4 , 42.14, 47.04, 39.82, 37.54, 47.12, 43.76,\n",
       "       39.22, 39.76, 48.86, 43.9 , 46.28, 47.52, 45.58, 48.96, 47.18,\n",
       "       40.2 , 43.84, 43.24, 47.6 , 55.94, 40.94, 43.88, 41.12, 45.18,\n",
       "       47.72, 42.84, 49.06, 48.32, 41.54, 43.58, 44.58, 45.8 , 42.4 ,\n",
       "       50.38, 47.12, 44.24, 38.3 , 51.6 , 42.82, 49.26, 43.86, 52.74,\n",
       "       49.68, 48.26, 37.96, 53.22, 47.72, 45.  , 46.  , 38.76, 44.06,\n",
       "       46.58, 47.94, 44.74, 43.88, 44.72, 42.48, 51.2 , 44.12, 47.86,\n",
       "       46.14, 38.76, 44.68, 48.9 , 41.84, 48.68, 42.56, 48.4 , 44.58,\n",
       "       41.98, 46.86, 48.04, 44.26, 48.78, 46.7 , 48.26, 43.7 , 43.58,\n",
       "       44.44, 43.1 , 44.56, 45.64, 45.68, 49.16, 47.4 , 45.22, 47.92,\n",
       "       47.78, 41.48, 47.4 , 46.46, 40.02, 42.02, 45.54, 46.98, 42.  ,\n",
       "       45.72, 39.28, 46.14, 44.5 , 45.56, 43.5 , 43.78, 44.6 , 39.04,\n",
       "       43.84, 37.04, 40.58, 44.34, 44.86, 47.2 , 39.02, 42.78, 46.9 ,\n",
       "       44.84, 49.3 , 45.42, 42.04, 36.58, 44.08, 39.8 , 44.58, 48.46,\n",
       "       47.88, 54.28, 45.72, 40.2 , 44.46, 49.14, 40.82, 44.2 , 39.5 ,\n",
       "       43.  , 41.82, 46.84, 44.22, 42.18, 41.26, 48.52, 42.58, 38.66,\n",
       "       38.92, 38.44, 49.62, 42.46, 45.  , 42.1 , 44.66, 40.7 , 43.36,\n",
       "       46.98, 46.36, 48.52, 42.86, 52.1 , 39.14, 45.4 , 46.78, 44.94,\n",
       "       40.44, 48.14, 41.06, 49.02, 36.58, 50.3 , 42.58, 44.76, 41.46,\n",
       "       46.04, 39.22, 44.24, 48.62, 42.26, 37.42, 49.1 , 38.5 , 40.98,\n",
       "       48.06, 39.02, 47.72, 42.9 , 47.96, 44.26, 44.04, 53.56, 41.28,\n",
       "       47.44, 50.18, 44.74, 47.32, 45.12, 46.4 , 39.56, 44.34, 47.28,\n",
       "       41.34, 49.44, 40.34, 36.72, 43.06, 49.2 , 46.8 , 43.48, 49.04,\n",
       "       44.92, 47.46, 40.7 , 37.64, 48.4 , 45.82, 41.28, 45.88, 43.74,\n",
       "       46.68, 39.66, 43.08, 43.64, 40.36, 43.32, 47.04, 44.42, 51.56,\n",
       "       45.66, 42.66, 41.84, 40.58, 44.9 , 43.8 , 43.02, 44.34, 49.96,\n",
       "       37.88, 37.6 , 53.34, 45.42, 48.98, 41.56, 50.56, 49.64, 39.82,\n",
       "       46.2 , 49.04, 44.8 , 31.16, 45.4 , 44.82, 49.66, 39.2 , 38.42,\n",
       "       44.32, 41.84, 44.84, 44.56, 46.84, 48.06, 53.38, 48.04, 43.98,\n",
       "       46.42, 46.06, 44.98, 46.32, 36.36, 38.9 , 37.94, 44.52, 47.32,\n",
       "       37.66, 45.2 , 47.62, 38.94, 45.98, 53.04, 43.18, 45.78, 44.52,\n",
       "       44.46, 44.9 , 45.4 , 43.5 , 42.  , 46.56, 43.64, 44.  , 40.8 ,\n",
       "       44.6 , 46.36, 44.9 , 44.66, 53.94, 52.9 , 48.24, 50.78, 42.22,\n",
       "       45.46, 41.7 , 49.12, 45.46, 49.34, 44.52, 45.88, 45.08, 49.18,\n",
       "       40.58, 49.16, 40.52, 45.86, 48.02, 43.18, 46.18, 45.96, 44.76,\n",
       "       46.98, 37.5 , 51.48, 48.68, 47.32, 45.74, 45.08, 46.42, 44.54,\n",
       "       48.76, 45.64, 44.58, 43.52, 46.28, 40.56, 43.86, 42.38, 40.  ,\n",
       "       47.94, 42.6 , 44.28, 41.46, 41.64, 46.78, 42.28, 42.5 , 43.3 ,\n",
       "       47.12, 49.74, 44.86, 47.14, 43.58, 37.94, 50.1 , 43.12, 40.62,\n",
       "       48.02, 43.18, 42.28, 46.9 , 43.94, 50.42, 42.24, 46.1 , 40.86,\n",
       "       47.22, 49.42, 42.18, 47.62, 40.68, 42.  , 44.84, 48.74, 39.86,\n",
       "       43.36, 47.86, 50.02, 41.6 , 44.96, 34.32, 40.16, 42.18, 37.26,\n",
       "       45.8 , 40.66, 35.76, 49.22, 41.74, 45.12, 50.16, 51.84, 43.12,\n",
       "       41.96, 41.94, 42.28, 43.32, 44.16, 47.36, 46.08, 44.12, 44.26,\n",
       "       39.86])"
      ]
     },
     "execution_count": 57,
     "metadata": {},
     "output_type": "execute_result"
    }
   ],
   "source": [
    "samples_count = 1000\n",
    "# Массивы для сохранения средних по выборкам\n",
    "a1 = np.array([])\n",
    "\n",
    "for number in range(samples_count):\n",
    "    # На каждом цикле генерируем выборки разных размеров\n",
    "    sample1 = np.random.choice(rv, size=50)\n",
    "    # Считаем среднее по каждой выборке и добавляем в массив средних\n",
    "    a1 = np.append(a1, sample1.mean())\n",
    "a1"
   ]
  },
  {
   "cell_type": "code",
   "execution_count": 56,
   "metadata": {},
   "outputs": [
    {
     "data": {
      "image/png": "[encoded data removed]",
      "text/plain": [
       "<Figure size 432x288 with 1 Axes>"
      ]
     },
     "metadata": {
      "needs_background": "light"
     },
     "output_type": "display_data"
    }
   ],
   "source": [
    "plt.hist(a1, density=True, bins=1000)\n",
    "plt.show()"
   ]
  },
  {
   "cell_type": "markdown",
   "metadata": {
    "id": "KJWpqOvPjt1E"
   },
   "source": [
    "## Задание 5"
   ]
  },
  {
   "cell_type": "markdown",
   "metadata": {
    "id": "48ezmZDMjvIY"
   },
   "source": [
    "Найдите собственные значения и собственные вектора матрицы (на python и на бумаге):"
   ]
  },
  {
   "cell_type": "markdown",
   "metadata": {
    "id": "509GRSXskfQt"
   },
   "source": [
    "\n",
    "\n",
    "```\n",
    "m = np.array([[1, 4],\n",
    "              [1, 1]])\n",
    "print(m)\n",
    "```\n",
    "\n"
   ]
  },
  {
   "cell_type": "code",
   "execution_count": 58,
   "metadata": {},
   "outputs": [
    {
     "data": {
      "text/plain": [
       "(array([ 3., -1.]),\n",
       " array([[ 0.89442719, -0.89442719],\n",
       "        [ 0.4472136 ,  0.4472136 ]]))"
      ]
     },
     "execution_count": 58,
     "metadata": {},
     "output_type": "execute_result"
    }
   ],
   "source": [
    "m = np.array([[1, 4],\n",
    "              [1, 1]])\n",
    "np.linalg.eig(m)"
   ]
  }
 ],
 "metadata": {
  "colab": {
   "name": "HW_X",
   "provenance": []
  },
  "kernelspec": {
   "display_name": "Python 3",
   "language": "python",
   "name": "python3"
  },
  "language_info": {
   "codemirror_mode": {
    "name": "ipython",
    "version": 3
   },
   "file_extension": ".py",
   "mimetype": "text/x-python",
   "name": "python",
   "nbconvert_exporter": "python",
   "pygments_lexer": "ipython3",
   "version": "3.8.8"
  }
 },
 "nbformat": 4,
 "nbformat_minor": 1
}

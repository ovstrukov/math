{
 "cells": [
  {
   "cell_type": "markdown",
   "metadata": {
    "id": "g1hQiFW7isGe"
   },
   "source": [
    "# Итоговая работа."
   ]
  },
  {
   "cell_type": "code",
   "execution_count": 2,
   "metadata": {
    "id": "NyZ7GotDi1Mp"
   },
   "outputs": [],
   "source": [
    "import matplotlib.pyplot as plt\n",
    "import numpy as np\n",
    "from sklearn.decomposition import PCA\n",
    "from scipy.optimize import minimize\n",
    "%matplotlib inline"
   ]
  },
  {
   "cell_type": "markdown",
   "metadata": {
    "id": "VZFf_auXisJd"
   },
   "source": [
    "## Задание 1"
   ]
  },
  {
   "cell_type": "markdown",
   "metadata": {
    "id": "ABMPXsuhisMO"
   },
   "source": [
    "Дана матрица рейтингов фильмов (строки - пользователи (10 человек), столбцы - фильмы (15 фильмов))"
   ]
  },
  {
   "cell_type": "code",
   "execution_count": 3,
   "metadata": {
    "id": "D4_Vshevi-4P"
   },
   "outputs": [],
   "source": [
    "raitings = np.array([[ 4,  4,  9,  4,  1,  6, 10,  7,  9,  6,  9,  2,  8,  6,  6],\n",
    "                     [ 9,  2,  5, 10,  7,  8, 10,  5,  6,  2,  1,  6,  8,  9,  7],\n",
    "                     [ 1,  6,  8,  8,  4,  9,  3,  8, 10,  5,  2,  6,  8,  1,  6],\n",
    "                     [ 6,  1,  9,  7,  7,  9,  2,  3,  5,  1,  6,  6,  3,  2,  7],\n",
    "                     [ 3,  7,  3,  5,  7,  9,  9,  6,  2,  9,  1,  2,  8, 10,  6],\n",
    "                     [ 8,  3,  7,  3,  8,  6,  1,  8,  8,  6,  1,  9,  4, 10,  1],\n",
    "                     [ 9,  8,  4,  8,  8, 10,  6,  1,  1,  2,  9,  5,  2,  7,  2],\n",
    "                     [ 4,  1,  6,  4,  3, 10,  4,  4,  2,  8,  7,  9,  3,  8,  3],\n",
    "                     [ 2,  7,  7,  6, 10,  6,  8,  9,  8,  6, 10,  1,  7, 10,  4],\n",
    "                     [ 5, 10,  8,  8,  9,  7,  2,  9,  9, 10,  8,  8,  8,  6, 10]])"
   ]
  },
  {
   "cell_type": "markdown",
   "metadata": {
    "id": "FuYpBPsTjBVa"
   },
   "source": [
    "**a)** Необходимо найти наиболее похожего пользователя по косинусной метрике для каждого из (ответ: 10 пар вида (x, y), где y - наиболее похожий пользователь на пользователя x).\n",
    "\n",
    "**b)** Предположим, вы захотели сжать признаковые описания пользователя с 15 фильмов, до, скажем, 5-ти признаков, как вы это сделаете?"
   ]
  },
  {
   "cell_type": "code",
   "execution_count": 48,
   "metadata": {},
   "outputs": [
    {
     "data": {
      "text/plain": [
       "{0: {0.5353154497125041, 9},\n",
       " 1: {0.6099419571336544, 9},\n",
       " 2: {0.4059427825664745, 9},\n",
       " 3: {0.5377394951722803, 9},\n",
       " 4: {0.5628310713041293, 9},\n",
       " 5: {0.5449579752580493, 9},\n",
       " 6: {0.6574596972833358, 9},\n",
       " 7: {0.5793434147035191, 9},\n",
       " 8: {0.44887014642898737, 9},\n",
       " 9: {0.44887014642898737, 8}}"
      ]
     },
     "execution_count": 48,
     "metadata": {},
     "output_type": "execute_result"
    }
   ],
   "source": [
    "#надо найти угол между векторами, там где он минимален, там векторы максимально сонаправлены, пользователи наиболее похожи\n",
    "a1 = {}\n",
    "# прогоняем в цикле по всем пользователям(векторам, т.е. строкам)\n",
    "for i in range(10):\n",
    "    for j in range(10):\n",
    "        #исключаем случаи умножения вектора на самого себя\n",
    "        if i == j:\n",
    "            continue\n",
    "        else:\n",
    "            # x = i-ый  и y =j -ый пользователи\n",
    "            x = raitings[i]\n",
    "            y = raitings[j]\n",
    "            np.dot(x, y)\n",
    "            np.linalg.norm(x)\n",
    "            np.linalg.norm(y)\n",
    "            #находим cos из формулы скалярного произведения\n",
    "            cos = np.dot(x, y) / (np.linalg.norm(x) * np.linalg.norm(y))\n",
    "            #задаем переменную угла между векторами = arccos, т.е. получаем уже угол и выбираем наименьший\n",
    "            total = np.arccos(cos)\n",
    "            a1[i] = {j, total.min()}\n",
    "a1\n",
    "\n",
    "#получаем словарь пар наиболее похожих пользователей для каждого из пользователей\n",
    "#получаем, что 2 и 9 пользователи максимально похожи"
   ]
  },
  {
   "cell_type": "code",
   "execution_count": 5,
   "metadata": {},
   "outputs": [
    {
     "data": {
      "text/plain": [
       "array([[-5.30986101,  1.92919845, -4.93300027,  2.70188013,  5.50497886],\n",
       "       [ 2.87763403,  2.71659559,  1.40592782,  7.26325751, -4.50322291],\n",
       "       [-4.94010408, -6.68861167, -0.94550184,  3.61556661, -0.68969272],\n",
       "       [ 5.14939908, -6.28027284, -4.65978558,  1.09024004, -1.01471112],\n",
       "       [-1.37488691,  7.54357985,  4.00834369,  2.1284001 , -0.16324949],\n",
       "       [ 2.65341956, -3.77075601,  8.58430748, -1.46628319,  1.67401769],\n",
       "       [ 8.61573944,  3.78603335, -4.02721027, -4.37582577, -3.13880277],\n",
       "       [ 5.39658258, -1.0170466 ,  1.01456742, -1.89512837,  6.54883538],\n",
       "       [-5.7843488 ,  5.29857107, -1.48083611, -3.71295542,  0.21312695],\n",
       "       [-7.2835739 , -3.51729118,  1.03318766, -5.34915166, -4.43127987]])"
      ]
     },
     "execution_count": 5,
     "metadata": {},
     "output_type": "execute_result"
    }
   ],
   "source": [
    "pca = PCA(n_components=5)\n",
    "X = pca.fit_transform(raitings)\n",
    "X"
   ]
  },
  {
   "cell_type": "markdown",
   "metadata": {
    "id": "QRJEo5ydjFjG"
   },
   "source": [
    "## Задание 2"
   ]
  },
  {
   "cell_type": "markdown",
   "metadata": {
    "id": "39rGnTIojFlV"
   },
   "source": [
    "\n",
    "Вычислите производную $tg^2(sin(x) + cos(2x+3))$ в точке $x_0=1$ (на python и на бумаге)."
   ]
  },
  {
   "cell_type": "code",
   "execution_count": 6,
   "metadata": {},
   "outputs": [],
   "source": [
    "from scipy import misc\n",
    "import numpy as np"
   ]
  },
  {
   "cell_type": "code",
   "execution_count": 7,
   "metadata": {},
   "outputs": [
    {
     "name": "stdout",
     "output_type": "stream",
     "text": [
      "Функция : tan(sin(x) + cos(2*x + 3))**2\n",
      "Производная функции : 2*(-2*sin(2*x + 3) + cos(x))*(tan(sin(x) + cos(2*x + 3))**2 + 1)*tan(sin(x) + cos(2*x + 3))\n"
     ]
    }
   ],
   "source": [
    "# импортируем sympy\n",
    "from sympy import * \n",
    "# определяем переменные\n",
    "x, y = symbols('x y')\n",
    "\n",
    "f = (tan(sin(x)+cos(2*x+3)))**2\n",
    "\n",
    "print(\"Функция : {}\".format(f))\n",
    "\n",
    "# используем sympy.diff() метод для получения производной\n",
    "dif = diff(f, x)\n",
    "\n",
    "print(\"Производная функции : {}\".format(dif))\n",
    "\n"
   ]
  },
  {
   "cell_type": "code",
   "execution_count": 8,
   "metadata": {},
   "outputs": [
    {
     "name": "stdout",
     "output_type": "stream",
     "text": [
      "Первая производная в точке x=1: 55.3859176433136\n"
     ]
    }
   ],
   "source": [
    "#используем misc.derivative для вычисления производной в точке x=1\n",
    "def g(x):\n",
    "        return (tan(sin(x)+cos(2*x+3)))**2\n",
    "print('Первая производная в точке x=1:', misc.derivative(g, 1, n=1, dx=1e-6))\n"
   ]
  },
  {
   "cell_type": "code",
   "execution_count": 9,
   "metadata": {},
   "outputs": [
    {
     "name": "stdout",
     "output_type": "stream",
     "text": [
      "55.3859176353379\n"
     ]
    }
   ],
   "source": [
    "d1 = 2*(-2*sin(2*1 + 3) + cos(1))*(tan(sin(1) + cos(2*1 + 3))**2 + 1)*tan(sin(1) + cos(2*1 + 3))\n",
    "gfg = d1.evalf()\n",
    "print(gfg)"
   ]
  },
  {
   "cell_type": "markdown",
   "metadata": {
    "id": "T1y3_xiwjFpC"
   },
   "source": [
    "## Задание 3"
   ]
  },
  {
   "cell_type": "markdown",
   "metadata": {
    "id": "1EyIA1IQjU7w"
   },
   "source": [
    "Дана функция с неизвестными параметрами a и b, вам также известны значения функции fx в точках x. Найдите оптимальные параметры a, b, минимизирующие абсолютную ошибку **error**."
   ]
  },
  {
   "cell_type": "code",
   "execution_count": 10,
   "metadata": {
    "id": "eoBdc8Pwjhmk"
   },
   "outputs": [],
   "source": [
    "def f(x, a, b):\n",
    "    return np.e**a * np.sin(b*x) + x"
   ]
  },
  {
   "cell_type": "code",
   "execution_count": 11,
   "metadata": {
    "id": "nftvBKK2jho9"
   },
   "outputs": [],
   "source": [
    "x = np.array([0.        , 0.26315789, 0.52631579, 0.78947368, 1.05263158,\n",
    "              1.31578947, 1.57894737, 1.84210526, 2.10526316, 2.36842105,\n",
    "              2.63157895, 2.89473684, 3.15789474, 3.42105263, 3.68421053,\n",
    "              3.94736842, 4.21052632, 4.47368421, 4.73684211, 5.        ])"
   ]
  },
  {
   "cell_type": "code",
   "execution_count": 12,
   "metadata": {
    "id": "Dk9sBWrKjhrH"
   },
   "outputs": [],
   "source": [
    "fx = np.array([  0.        , -12.01819092, -18.90968634, -17.68786571,\n",
    "                -8.7529108 ,   4.27524517,  16.06801336,  21.81250213,\n",
    "                19.22059845,   9.48411207,  -3.22273056, -13.48576488,\n",
    "               -16.91096359, -11.95866834,  -0.58630088,  12.56873816,\n",
    "                22.12489421,  24.20292139,  18.04522521,   6.33211092])"
   ]
  },
  {
   "cell_type": "code",
   "execution_count": 13,
   "metadata": {
    "id": "X_4afDeijht2"
   },
   "outputs": [
    {
     "data": {
      "image/png": "[encoded data removed]",
      "text/plain": [
       "<Figure size 432x288 with 1 Axes>"
      ]
     },
     "metadata": {
      "needs_background": "light"
     },
     "output_type": "display_data"
    }
   ],
   "source": [
    "plt.plot(x, fx)\n",
    "plt.show()"
   ]
  },
  {
   "cell_type": "code",
   "execution_count": 14,
   "metadata": {
    "id": "oXoGpFu0i-6g"
   },
   "outputs": [],
   "source": [
    "def error(params):\n",
    "    return np.sum(np.abs(fx - f(x, params[0], params[1])))"
   ]
  },
  {
   "cell_type": "code",
   "execution_count": 15,
   "metadata": {},
   "outputs": [
    {
     "data": {
      "text/plain": [
       "     fun: 0.07674566111565184\n",
       "   maxcv: 0.0\n",
       " message: 'Optimization terminated successfully.'\n",
       "    nfev: 135\n",
       "  status: 1\n",
       " success: True\n",
       "       x: array([ 3.00018796, -2.50008926])"
      ]
     },
     "execution_count": 15,
     "metadata": {},
     "output_type": "execute_result"
    }
   ],
   "source": [
    "#поможет функция minimize(), с ней легче всего, просто передаём функцию ошибки, начальные значения [0, 0] \n",
    "#и задаём метод (в файле с рекомендациями 'COBYLA'), \n",
    "#в результате выполнения получите в части x: оптимальные значения параметров a и b.\n",
    "\n",
    "x0 = [0, 0] \n",
    "res = minimize(error, x0, method='COBYLA')\n",
    "res"
   ]
  },
  {
   "cell_type": "code",
   "execution_count": 24,
   "metadata": {},
   "outputs": [
    {
     "data": {
      "image/png": "[encoded data removed]",
      "text/plain": [
       "<Figure size 432x288 with 1 Axes>"
      ]
     },
     "metadata": {
      "needs_background": "light"
     },
     "output_type": "display_data"
    }
   ],
   "source": [
    "#проверка - наложение точек из массива на график\n",
    "plt.plot(x, f(x, a=3.00018796, b=-2.50008926))\n",
    "plt.plot(x, fx, 'o')\n",
    "plt.show()"
   ]
  },
  {
   "cell_type": "markdown",
   "metadata": {
    "id": "4AXJ_r5UjrY5"
   },
   "source": [
    "## Задание 4"
   ]
  },
  {
   "cell_type": "markdown",
   "metadata": {
    "id": "zRnYGwhXjtQB"
   },
   "source": [
    "Создайте собственную дискретную случайную величину с 20 значениями. Сгенерируйте 1000 выборок размера 50. Посчитайте среднее для каждой выборки. Постройте гистограмму распределения средних."
   ]
  },
  {
   "cell_type": "code",
   "execution_count": 30,
   "metadata": {},
   "outputs": [
    {
     "data": {
      "text/plain": [
       "array([36, 56, 75, 81,  6,  3, 51, 50, 31, 67, 86,  8, 19, 27, 16, 82, 24,\n",
       "       23, 67, 96])"
      ]
     },
     "execution_count": 30,
     "metadata": {},
     "output_type": "execute_result"
    }
   ],
   "source": [
    "rv = np.random.randint(0, 100, size=20)\n",
    "rv"
   ]
  },
  {
   "cell_type": "code",
   "execution_count": 31,
   "metadata": {},
   "outputs": [
    {
     "data": {
      "text/plain": [
       "array([ 6, 27,  3, 27, 31, 67, 16, 31, 24, 86, 56,  3, 19, 56,  6, 23,  6,\n",
       "       36,  6,  6, 96, 51, 50, 19, 86,  6, 19,  6,  6, 27, 50, 56, 36, 51,\n",
       "       96,  8, 24, 36, 51, 50, 50,  3, 67, 50, 82, 51, 50, 82, 16, 67])"
      ]
     },
     "execution_count": 31,
     "metadata": {},
     "output_type": "execute_result"
    }
   ],
   "source": [
    "#rv = sts.expon(0)\n",
    "np.random.choice(rv, size=50)\n"
   ]
  },
  {
   "cell_type": "code",
   "execution_count": 32,
   "metadata": {},
   "outputs": [
    {
     "data": {
      "text/plain": [
       "array([47.2 , 42.68, 43.8 , 41.68, 46.16, 38.36, 47.48, 43.66, 51.38,\n",
       "       37.24, 48.02, 41.88, 47.2 , 44.24, 52.6 , 41.5 , 36.36, 46.4 ,\n",
       "       42.2 , 52.04, 52.92, 49.66, 40.46, 41.18, 51.62, 50.6 , 47.5 ,\n",
       "       41.16, 47.62, 44.9 , 41.64, 42.96, 45.64, 44.92, 48.92, 41.64,\n",
       "       45.22, 45.82, 51.98, 45.34, 46.52, 41.26, 44.4 , 42.4 , 43.2 ,\n",
       "       36.02, 50.3 , 43.56, 49.7 , 46.54, 53.6 , 38.02, 52.98, 49.48,\n",
       "       41.72, 51.36, 50.54, 39.4 , 42.4 , 50.96, 45.8 , 55.86, 39.16,\n",
       "       45.9 , 43.62, 43.84, 43.54, 41.44, 50.22, 37.7 , 47.12, 38.84,\n",
       "       44.62, 40.86, 53.08, 49.36, 45.48, 48.16, 44.38, 39.24, 48.3 ,\n",
       "       45.18, 40.64, 42.26, 50.88, 57.14, 50.74, 45.4 , 44.34, 49.66,\n",
       "       45.74, 43.92, 43.8 , 37.5 , 43.08, 49.16, 40.1 , 45.7 , 42.44,\n",
       "       50.76, 46.16, 46.2 , 42.54, 45.12, 40.  , 47.22, 40.12, 45.88,\n",
       "       42.84, 43.28, 38.6 , 44.88, 44.92, 47.4 , 45.48, 42.7 , 44.7 ,\n",
       "       49.38, 48.46, 53.58, 37.66, 47.1 , 45.14, 48.34, 41.8 , 54.  ,\n",
       "       48.04, 48.14, 45.98, 39.76, 41.56, 43.48, 36.76, 45.52, 44.64,\n",
       "       50.5 , 34.64, 46.84, 43.6 , 43.74, 51.34, 50.48, 47.08, 47.52,\n",
       "       45.84, 47.34, 45.86, 42.26, 42.  , 48.42, 41.24, 43.32, 42.9 ,\n",
       "       49.42, 52.8 , 43.2 , 42.  , 49.52, 36.66, 43.74, 48.28, 48.52,\n",
       "       45.94, 46.04, 42.82, 45.5 , 36.86, 48.84, 46.54, 46.76, 55.44,\n",
       "       42.72, 40.  , 46.32, 42.26, 41.42, 46.02, 37.38, 48.74, 43.8 ,\n",
       "       37.48, 51.7 , 43.56, 48.38, 42.14, 44.84, 50.78, 47.78, 45.64,\n",
       "       39.98, 42.66, 48.6 , 48.2 , 43.7 , 37.96, 41.46, 46.58, 44.18,\n",
       "       44.44, 40.18, 42.06, 53.3 , 49.84, 41.  , 46.6 , 42.24, 41.52,\n",
       "       46.04, 39.82, 48.84, 39.02, 49.84, 45.24, 42.5 , 40.92, 50.64,\n",
       "       45.06, 40.54, 43.12, 46.92, 41.42, 43.1 , 47.26, 45.82, 45.38,\n",
       "       41.62, 44.96, 45.68, 34.54, 53.16, 44.5 , 40.5 , 42.7 , 46.26,\n",
       "       45.74, 44.52, 42.34, 48.78, 38.38, 45.32, 47.88, 49.16, 43.84,\n",
       "       48.84, 45.7 , 39.86, 51.16, 46.12, 40.84, 48.06, 44.54, 50.28,\n",
       "       46.04, 46.9 , 44.2 , 45.08, 47.76, 44.7 , 45.28, 54.46, 41.84,\n",
       "       44.84, 43.24, 48.2 , 47.72, 47.26, 43.86, 48.38, 49.36, 47.08,\n",
       "       51.2 , 43.42, 43.74, 41.62, 43.5 , 41.26, 51.04, 42.08, 44.72,\n",
       "       48.62, 46.08, 44.52, 49.4 , 39.18, 40.7 , 46.82, 44.82, 51.24,\n",
       "       40.36, 46.1 , 42.38, 49.16, 39.42, 46.46, 51.98, 46.38, 40.58,\n",
       "       49.34, 46.9 , 50.16, 44.36, 43.32, 53.54, 51.46, 44.84, 47.06,\n",
       "       41.2 , 45.74, 47.34, 41.52, 40.12, 42.8 , 44.16, 40.66, 45.64,\n",
       "       48.24, 48.84, 45.5 , 45.04, 43.42, 39.56, 50.48, 40.18, 41.4 ,\n",
       "       47.32, 50.44, 46.04, 38.02, 48.36, 49.24, 53.58, 44.18, 41.4 ,\n",
       "       50.5 , 47.58, 41.3 , 46.88, 45.08, 52.14, 44.2 , 46.34, 49.16,\n",
       "       44.06, 56.48, 49.64, 42.64, 47.78, 40.76, 48.7 , 44.56, 38.46,\n",
       "       32.5 , 44.32, 44.22, 45.24, 38.76, 45.76, 49.6 , 47.96, 46.64,\n",
       "       44.28, 43.82, 47.4 , 41.56, 49.7 , 45.08, 50.06, 45.08, 41.44,\n",
       "       50.58, 39.9 , 50.12, 39.86, 46.84, 43.28, 48.82, 48.42, 48.2 ,\n",
       "       49.34, 48.58, 46.22, 44.42, 47.6 , 48.04, 40.52, 50.18, 42.94,\n",
       "       44.48, 45.06, 46.34, 46.8 , 43.  , 48.16, 48.14, 36.34, 40.72,\n",
       "       47.34, 44.34, 38.84, 45.38, 51.46, 44.8 , 44.54, 47.18, 44.66,\n",
       "       46.64, 46.76, 40.68, 45.64, 40.86, 44.88, 46.74, 35.68, 43.5 ,\n",
       "       43.96, 48.64, 41.72, 53.22, 38.1 , 42.36, 41.8 , 48.4 , 45.1 ,\n",
       "       49.48, 48.42, 47.02, 43.3 , 45.  , 48.32, 43.28, 47.18, 47.1 ,\n",
       "       43.84, 45.58, 39.8 , 42.28, 45.22, 48.52, 40.04, 40.54, 49.36,\n",
       "       46.74, 48.86, 52.64, 42.06, 47.18, 47.64, 44.82, 47.3 , 44.06,\n",
       "       44.96, 37.62, 46.18, 48.58, 44.52, 46.44, 47.02, 48.14, 46.36,\n",
       "       44.74, 42.24, 52.98, 47.12, 53.18, 41.88, 47.46, 40.46, 44.18,\n",
       "       44.24, 46.58, 45.18, 45.94, 39.98, 42.34, 40.14, 52.7 , 48.48,\n",
       "       45.1 , 42.72, 40.96, 45.7 , 45.76, 49.08, 42.54, 44.34, 48.34,\n",
       "       46.06, 45.9 , 42.22, 52.66, 44.82, 49.36, 47.42, 46.94, 49.28,\n",
       "       42.86, 45.52, 48.52, 47.22, 40.34, 46.68, 40.98, 44.54, 42.26,\n",
       "       43.88, 47.8 , 44.44, 46.08, 47.7 , 45.22, 41.94, 40.86, 46.62,\n",
       "       48.44, 44.46, 48.1 , 39.34, 37.26, 46.86, 39.8 , 45.64, 41.26,\n",
       "       39.34, 43.56, 47.68, 43.04, 44.36, 42.  , 42.4 , 45.04, 43.88,\n",
       "       41.2 , 48.8 , 44.3 , 52.98, 49.2 , 50.14, 51.82, 52.44, 42.68,\n",
       "       46.06, 45.48, 43.  , 42.54, 42.02, 39.22, 44.6 , 46.7 , 48.38,\n",
       "       44.52, 43.34, 40.72, 41.66, 43.16, 36.92, 39.24, 46.78, 44.64,\n",
       "       45.24, 43.58, 40.4 , 41.8 , 47.18, 37.46, 44.02, 40.84, 41.8 ,\n",
       "       46.74, 48.42, 46.6 , 47.56, 44.2 , 48.42, 48.38, 45.02, 38.04,\n",
       "       48.64, 42.86, 45.48, 43.92, 42.06, 44.24, 40.88, 46.56, 45.76,\n",
       "       46.06, 46.12, 51.66, 50.02, 46.64, 49.36, 39.  , 43.56, 53.38,\n",
       "       52.34, 46.1 , 44.5 , 42.72, 46.88, 43.36, 48.98, 45.14, 43.96,\n",
       "       49.74, 44.52, 42.02, 41.18, 51.98, 44.98, 42.4 , 43.42, 46.16,\n",
       "       41.76, 46.1 , 47.56, 45.76, 51.3 , 48.46, 48.5 , 42.68, 43.98,\n",
       "       43.06, 37.32, 48.46, 37.52, 43.28, 43.88, 46.18, 46.36, 44.28,\n",
       "       38.22, 43.42, 44.06, 52.36, 52.32, 42.42, 43.9 , 44.98, 51.68,\n",
       "       49.24, 47.24, 46.6 , 45.14, 51.06, 44.78, 47.22, 42.94, 53.98,\n",
       "       44.06, 39.72, 43.28, 43.96, 48.34, 45.88, 37.78, 38.5 , 40.6 ,\n",
       "       47.54, 56.14, 47.14, 44.78, 45.58, 48.04, 38.9 , 44.56, 48.  ,\n",
       "       40.24, 54.8 , 44.7 , 38.4 , 44.38, 45.48, 52.32, 44.62, 48.32,\n",
       "       40.  , 39.68, 48.92, 45.6 , 38.24, 50.42, 45.02, 52.16, 44.06,\n",
       "       47.84, 44.8 , 46.42, 45.94, 41.04, 50.52, 49.1 , 39.76, 41.44,\n",
       "       43.56, 41.26, 49.76, 42.46, 46.28, 43.62, 45.8 , 36.4 , 42.4 ,\n",
       "       44.72, 47.66, 42.52, 42.7 , 43.36, 50.94, 55.9 , 51.7 , 43.92,\n",
       "       50.88, 39.88, 43.64, 41.84, 47.86, 45.68, 50.56, 43.82, 39.98,\n",
       "       49.56, 47.7 , 42.74, 44.24, 46.7 , 43.02, 42.42, 44.42, 48.06,\n",
       "       42.04, 45.22, 44.12, 55.04, 45.56, 38.34, 46.6 , 40.16, 48.2 ,\n",
       "       44.26, 44.64, 48.4 , 42.96, 51.38, 44.32, 47.78, 45.96, 48.18,\n",
       "       41.14, 47.42, 42.82, 39.1 , 43.16, 46.6 , 37.64, 49.52, 44.98,\n",
       "       53.16, 42.26, 40.48, 41.4 , 48.44, 36.44, 38.88, 38.82, 45.34,\n",
       "       43.58, 34.9 , 44.8 , 45.3 , 48.42, 45.9 , 49.84, 59.02, 44.28,\n",
       "       48.56, 50.68, 46.68, 48.78, 48.36, 48.9 , 35.34, 42.8 , 45.44,\n",
       "       39.82, 36.86, 50.62, 47.78, 41.1 , 43.86, 46.9 , 39.54, 45.4 ,\n",
       "       47.68, 43.64, 53.12, 45.66, 42.72, 49.18, 45.08, 50.28, 45.6 ,\n",
       "       48.16, 41.36, 51.02, 44.84, 39.7 , 49.06, 49.32, 42.84, 45.08,\n",
       "       47.1 , 45.1 , 49.5 , 38.98, 48.96, 49.84, 42.7 , 41.28, 44.1 ,\n",
       "       43.9 , 39.58, 48.76, 40.46, 41.9 , 40.28, 46.26, 45.8 , 45.24,\n",
       "       41.04, 37.9 , 46.38, 47.48, 48.4 , 44.86, 45.14, 39.04, 43.34,\n",
       "       40.14, 44.9 , 44.62, 47.7 , 48.34, 44.96, 46.62, 45.64, 46.78,\n",
       "       46.82, 36.84, 48.14, 36.62, 43.96, 44.42, 45.62, 40.62, 42.06,\n",
       "       46.44, 47.88, 40.  , 43.5 , 45.04, 41.44, 49.06, 43.72, 45.34,\n",
       "       52.86, 45.62, 45.3 , 51.72, 46.6 , 41.3 , 48.74, 43.26, 48.92,\n",
       "       41.74, 42.18, 40.3 , 48.3 , 44.16, 42.76, 41.64, 41.26, 42.86,\n",
       "       41.06, 44.74, 46.  , 44.04, 43.62, 47.78, 48.56, 47.  , 44.9 ,\n",
       "       48.84, 43.78, 47.54, 46.94, 46.98, 39.9 , 47.52, 50.2 , 43.44,\n",
       "       40.64, 47.22, 42.74, 47.12, 46.22, 40.8 , 40.36, 47.88, 48.16,\n",
       "       41.02, 47.2 , 43.4 , 43.2 , 47.56, 49.34, 38.84, 49.94, 43.86,\n",
       "       45.28, 42.58, 50.28, 47.78, 39.54, 45.  , 45.54, 46.12, 48.9 ,\n",
       "       43.52, 38.34, 49.68, 48.52, 39.44, 43.76, 46.58, 43.04, 47.82,\n",
       "       44.94, 44.98, 45.72, 46.38, 40.14, 44.48, 43.06, 47.62, 36.16,\n",
       "       48.36, 51.88, 47.94, 41.32, 44.9 , 46.16, 50.06, 49.46, 40.48,\n",
       "       40.6 , 41.5 , 40.72, 48.76, 46.42, 44.36, 39.94, 45.3 , 46.66,\n",
       "       47.78, 45.96, 38.76, 42.02, 46.44, 47.62, 46.7 , 38.84, 39.54,\n",
       "       50.06, 46.24, 47.28, 43.42, 42.92, 44.58, 50.6 , 43.2 , 46.06,\n",
       "       43.1 , 52.3 , 38.94, 42.6 , 49.5 , 51.  , 42.22, 36.92, 41.6 ,\n",
       "       51.74, 43.04, 44.5 , 38.02, 42.08, 42.48, 46.8 , 42.72, 47.62,\n",
       "       52.22])"
      ]
     },
     "execution_count": 32,
     "metadata": {},
     "output_type": "execute_result"
    }
   ],
   "source": [
    "samples_count = 1000\n",
    "# Массивы для сохранения средних по выборкам\n",
    "a1 = np.array([])\n",
    "\n",
    "for number in range(samples_count):\n",
    "    # На каждом цикле генерируем выборки разных размеров\n",
    "    sample1 = np.random.choice(rv, size=50)\n",
    "    # Считаем среднее по каждой выборке и добавляем в массив средних\n",
    "    a1 = np.append(a1, sample1.mean())\n",
    "a1"
   ]
  },
  {
   "cell_type": "code",
   "execution_count": 37,
   "metadata": {},
   "outputs": [
    {
     "data": {
      "image/png": "[encoded data removed]",
      "text/plain": [
       "<Figure size 432x288 with 1 Axes>"
      ]
     },
     "metadata": {
      "needs_background": "light"
     },
     "output_type": "display_data"
    }
   ],
   "source": [
    "plt.hist(a1, density=True, bins=50)\n",
    "plt.show()"
   ]
  },
  {
   "cell_type": "markdown",
   "metadata": {
    "id": "KJWpqOvPjt1E"
   },
   "source": [
    "## Задание 5"
   ]
  },
  {
   "cell_type": "markdown",
   "metadata": {
    "id": "48ezmZDMjvIY"
   },
   "source": [
    "Найдите собственные значения и собственные вектора матрицы (на python и на бумаге):"
   ]
  },
  {
   "cell_type": "markdown",
   "metadata": {
    "id": "509GRSXskfQt"
   },
   "source": [
    "\n",
    "\n",
    "```\n",
    "m = np.array([[1, 4],\n",
    "              [1, 1]])\n",
    "print(m)\n",
    "```\n",
    "\n"
   ]
  },
  {
   "cell_type": "code",
   "execution_count": 58,
   "metadata": {},
   "outputs": [
    {
     "data": {
      "text/plain": [
       "(array([ 3., -1.]),\n",
       " array([[ 0.89442719, -0.89442719],\n",
       "        [ 0.4472136 ,  0.4472136 ]]))"
      ]
     },
     "execution_count": 58,
     "metadata": {},
     "output_type": "execute_result"
    }
   ],
   "source": [
    "m = np.array([[1, 4],\n",
    "              [1, 1]])\n",
    "np.linalg.eig(m)"
   ]
  }
 ],
 "metadata": {
  "colab": {
   "name": "HW_X",
   "provenance": []
  },
  "kernelspec": {
   "display_name": "Python 3",
   "language": "python",
   "name": "python3"
  },
  "language_info": {
   "codemirror_mode": {
    "name": "ipython",
    "version": 3
   },
   "file_extension": ".py",
   "mimetype": "text/x-python",
   "name": "python",
   "nbconvert_exporter": "python",
   "pygments_lexer": "ipython3",
   "version": "3.8.8"
  }
 },
 "nbformat": 4,
 "nbformat_minor": 1
}

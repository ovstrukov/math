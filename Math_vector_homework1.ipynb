{
 "cells": [
  {
   "cell_type": "code",
   "execution_count": 44,
   "id": "equipped-resolution",
   "metadata": {},
   "outputs": [],
   "source": [
    "#Домашнее задание \"Линейная алгебра. Векторы\".\n",
    "#Даны вектора x = (1,1), y = (2, 0) и z = (0,2)\n",
    "\n",
    "#Надо:\n",
    "\n",
    "#Изобразить вектора на экране\n",
    "#Изобразить точку x + y + z\n",
    "#Найти угол между векторами x и y"
   ]
  },
  {
   "cell_type": "code",
   "execution_count": 1,
   "id": "linear-assist",
   "metadata": {},
   "outputs": [],
   "source": [
    "import numpy as np\n",
    "import matplotlib.pyplot as plt"
   ]
  },
  {
   "cell_type": "code",
   "execution_count": 3,
   "id": "particular-concord",
   "metadata": {},
   "outputs": [],
   "source": [
    "x = np.array([1, 1])\n",
    "y = np.array([2, 0])\n",
    "z = np.array([0, 2])"
   ]
  },
  {
   "cell_type": "code",
   "execution_count": 4,
   "id": "accessible-tennis",
   "metadata": {},
   "outputs": [
    {
     "data": {
      "text/plain": [
       "[<matplotlib.lines.Line2D at 0x1ef2a382670>]"
      ]
     },
     "execution_count": 4,
     "metadata": {},
     "output_type": "execute_result"
    },
    {
     "data": {
      "image/png": "[encoded data removed]",
      "text/plain": [
       "<Figure size 432x288 with 1 Axes>"
      ]
     },
     "metadata": {
      "needs_background": "light"
     },
     "output_type": "display_data"
    }
   ],
   "source": [
    "plt.plot(x[0],x[1], 'o')\n",
    "plt.plot(y[0],y[1], 'o')\n",
    "plt.plot(z[0],z[1], 'X')\n"
   ]
  },
  {
   "cell_type": "code",
   "execution_count": 6,
   "id": "weighted-courtesy",
   "metadata": {},
   "outputs": [
    {
     "data": {
      "text/plain": [
       "[<matplotlib.lines.Line2D at 0x1ef2ab6b4f0>]"
      ]
     },
     "execution_count": 6,
     "metadata": {},
     "output_type": "execute_result"
    },
    {
     "data": {
      "image/png": "[encoded data removed]",
      "text/plain": [
       "<Figure size 432x288 with 1 Axes>"
      ]
     },
     "metadata": {
      "needs_background": "light"
     },
     "output_type": "display_data"
    }
   ],
   "source": [
    "w = x + y + z\n",
    "plt.plot(w[0],w[1], 'x')"
   ]
  },
  {
   "cell_type": "code",
   "execution_count": 52,
   "id": "dense-zimbabwe",
   "metadata": {},
   "outputs": [
    {
     "data": {
      "text/plain": [
       "45"
      ]
     },
     "execution_count": 52,
     "metadata": {},
     "output_type": "execute_result"
    }
   ],
   "source": [
    "np.dot(x, y)\n",
    "np.linalg.norm(x)\n",
    "np.linalg.norm(y)\n",
    "cos = np.dot(x, y) / (np.linalg.norm(x) * np.linalg.norm(y))\n",
    "np.arccos(cos)\n",
    "round(np.rad2deg(np.arccos(cos)))"
   ]
  }
 ],
 "metadata": {
  "kernelspec": {
   "display_name": "Python 3",
   "language": "python",
   "name": "python3"
  },
  "language_info": {
   "codemirror_mode": {
    "name": "ipython",
    "version": 3
   },
   "file_extension": ".py",
   "mimetype": "text/x-python",
   "name": "python",
   "nbconvert_exporter": "python",
   "pygments_lexer": "ipython3",
   "version": "3.8.8"
  }
 },
 "nbformat": 4,
 "nbformat_minor": 5
}
